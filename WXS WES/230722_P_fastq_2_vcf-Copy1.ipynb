{
 "cells": [
  {
   "cell_type": "markdown",
   "id": "2b6c3d44-aaef-4f33-9997-be19b3b1203a",
   "metadata": {},
   "source": [
    "# Processing Whole Exome Sequencing (WES/WXS) Data"
   ]
  },
  {
   "cell_type": "code",
   "execution_count": 2,
   "id": "b1f9a893-eea7-4565-9e9b-34037451ac0c",
   "metadata": {},
   "outputs": [
    {
     "name": "stdout",
     "output_type": "stream",
     "text": [
      "/home/fmbuga/ERR1831349\n"
     ]
    }
   ],
   "source": [
    "!pwd"
   ]
  },
  {
   "cell_type": "code",
   "execution_count": 3,
   "id": "5ebefd6a-11f3-4fb9-83dd-9bb84b0f4f60",
   "metadata": {},
   "outputs": [
    {
     "name": "stdout",
     "output_type": "stream",
     "text": [
      "230722_P_fastq_2_vcf.ipynb\n"
     ]
    }
   ],
   "source": [
    "!ls"
   ]
  },
  {
   "cell_type": "markdown",
   "id": "938dbcd4-71f8-4000-9944-bba5b344980e",
   "metadata": {},
   "source": [
    "## Download data as fastq from NCBI SRA"
   ]
  },
  {
   "cell_type": "code",
   "execution_count": 6,
   "id": "3b93270b-abc7-434f-bfa2-45534d14476b",
   "metadata": {},
   "outputs": [
    {
     "name": "stdout",
     "output_type": "stream",
     "text": [
      "#!/bin/bash\n",
      "#\n",
      "#SBATCH --job-name=fasterq_dump_230722\n",
      "#SBATCH --output=/home/fmbuga/tools/slurm_scripts/slurm_out_err/fasterq_dump_230722_%j.out\n",
      "#SBATCH --error=/home/fmbuga/tools/slurm_scripts/slurm_out_err/fasterq_dump_230722_%j.err\n",
      "#\n",
      "#SBATCH --ntasks=1\n",
      "#SBATCH --cpus-per-task=28\n",
      "#SBATCH --mem=0\n",
      "\n",
      "datenow=$(date)\n",
      "echo $datenow\n",
      "echo \"\"\n",
      "srun hostname\n",
      "echo \"\"\n",
      "\n",
      "start=$(date +%s)\n",
      "echo \"start time: $start\"\n",
      "echo \"\"\n",
      "echo \"hostname: $HOSTNAME\"\n",
      "echo \"\"\n",
      "\n",
      "\n",
      "##################\n",
      "\n",
      "eval \"$(conda shell.bash hook)\"\n",
      "conda activate sra-tools                      ### CONDA ENVIRONMENT NAME\n",
      "echo \"\"\n",
      "\n",
      "work_dir=$(pwd)\n",
      "echo \"working directory: $work_dir\"     ### WORKING DIRECTORY\n",
      "echo \"\"\n",
      "\n",
      "ncbi_sra_accession=$1                   ### NCBI SRA archive accession ID to download\n",
      "\n",
      "# fasterq-dump\n",
      "call=$(fasterq-dump $ncbi_sra_accession \\\n",
      "    --threads 28 \\\n",
      "    --progress \\\n",
      "    --details \\\n",
      "    --split-files)                                   ### split-files for paired-end data\n",
      "    \n",
      "echo $call\n",
      "eval $call\n",
      "echo \"fasterq-dump COMPLETE.\"\n",
      "echo \"\"\n",
      "    \n",
      "\n",
      "conda info\n",
      "echo \"\"\n",
      "conda list\n",
      "echo \"\"\n",
      "\n",
      "##################\n",
      "\n",
      "echo \"\"\n",
      "end=$(date +%s)\n",
      "echo \"end time: $end\"\n",
      "runtime_s=$(echo $(( end - start )))\n",
      "echo \"total run time(s): $runtime_s\"\n",
      "sec_per_min=60\n",
      "sec_per_hr=3600\n",
      "runtime_m=$(echo \"scale=2; $runtime_s / $sec_per_min;\" | bc)\n",
      "echo \"total run time(m): $runtime_m\"\n",
      "runtime_h=$(echo \"scale=2; $runtime_s / $sec_per_hr;\" | bc)\n",
      "echo \"total run time(h): $runtime_h\"\n",
      "\n",
      "\n"
     ]
    }
   ],
   "source": [
    "!cat fasterq_dump_230722_slurm.sh"
   ]
  },
  {
   "cell_type": "code",
   "execution_count": 7,
   "id": "9325fa3a-bf6c-4a2b-9fe1-5228086f486e",
   "metadata": {},
   "outputs": [
    {
     "name": "stdout",
     "output_type": "stream",
     "text": [
      "Submitted batch job 645837\n",
      "             JOBID PARTITION     NAME     USER ST       TIME  NODES NODELIST(REASON)\n",
      "            645836     nodes     bash   fmbuga  R    1:08:45      1 node18\n",
      "            645837     nodes fasterq_   fmbuga  R       0:05      1 node35\n",
      "             JOBID PARTITION     NAME     USER ST       TIME  NODES NODELIST(REASON)\n",
      "            645836     nodes     bash   fmbuga  R    1:08:55      1 node18\n",
      "            645837     nodes fasterq_   fmbuga  R       0:15      1 node35\n",
      "             JOBID PARTITION     NAME     USER ST       TIME  NODES NODELIST(REASON)\n",
      "            645836     nodes     bash   fmbuga  R    1:09:11      1 node18\n",
      "            645837     nodes fasterq_   fmbuga  R       0:31      1 node35\n",
      "             JOBID PARTITION     NAME     USER ST       TIME  NODES NODELIST(REASON)\n",
      "            645836     nodes     bash   fmbuga  R    1:09:41      1 node18\n",
      "            645837     nodes fasterq_   fmbuga  R       1:01      1 node35\n"
     ]
    }
   ],
   "source": [
    "# submit fasterq-dump job to SLURM\n",
    "\n",
    "!sbatch fasterq_dump_230722_slurm.sh \\\n",
    "    ERR1831349\n",
    "\n",
    "!sleep 5\n",
    "!squeue -u fmbuga\n",
    "!sleep 10\n",
    "!squeue -u fmbuga\n",
    "!sleep 15\n",
    "!squeue -u fmbuga\n",
    "!sleep 30\n",
    "!squeue -u fmbuga"
   ]
  },
  {
   "cell_type": "code",
   "execution_count": 3,
   "id": "885e743e-4ac1-490a-a21f-d154782926b3",
   "metadata": {},
   "outputs": [
    {
     "name": "stdout",
     "output_type": "stream",
     "text": [
      "ERR1831349_1.fastq  ERR1831349_2.fastq\n"
     ]
    }
   ],
   "source": [
    "# create folder to store raw fastq and move downloaded files there\n",
    "!mkdir ./00_raw_fastq\n",
    "!mv *.fastq ./00_raw_fastq\n",
    "!ls ./00_raw_fastq"
   ]
  },
  {
   "cell_type": "markdown",
   "id": "df8e2be4-f5c5-4c56-ac58-0cb6502abf1b",
   "metadata": {},
   "source": [
    "## Check Quality of fastq with FastQC"
   ]
  },
  {
   "cell_type": "code",
   "execution_count": 6,
   "id": "998d85ad-ad11-4f41-bc22-ef3be70ab2e5",
   "metadata": {},
   "outputs": [
    {
     "name": "stdout",
     "output_type": "stream",
     "text": [
      "#!/bin/bash\n",
      "#\n",
      "#SBATCH --job-name=fastqc_allInFolder_230723\n",
      "#SBATCH --output=/home/fmbuga/tools/slurm_scripts/slurm_out_err/fastqc_allInFolder_230723_%j.out\n",
      "#SBATCH --error=/home/fmbuga/tools/slurm_scripts/slurm_out_err/fastqc_allInFolder_230723_%j.err\n",
      "#\n",
      "#SBATCH --ntasks=1\n",
      "#SBATCH --cpus-per-task=2\n",
      "#SBATCH --mem=0\n",
      "\n",
      "datenow=$(date)\n",
      "echo $datenow\n",
      "echo \"\"\n",
      "srun hostname\n",
      "echo \"\"\n",
      "\n",
      "start=$(date +%s)\n",
      "echo \"start time: $start\"\n",
      "echo \"\"\n",
      "echo \"hostname: $HOSTNAME\"\n",
      "echo \"\"\n",
      "\n",
      "\n",
      "##################\n",
      "\n",
      "eval \"$(conda shell.bash hook)\"\n",
      "conda activate sra-tools                      ### CONDA ENVIRONMENT NAME\n",
      "conda info\n",
      "echo \"\"\n",
      "\n",
      "\n",
      "call=\"fastqc --version\"\n",
      "echo $call\n",
      "eval $call\n",
      "echo \"\"\n",
      "\n",
      "input_dir=$1             ### INPUT DIRECTORY\n",
      "output_dir=$2            ### OUTPUT DIRECTORY \n",
      "echo \"output directory: $output_dir\"\n",
      "echo \"\"\n",
      "\n",
      "# fastqc\n",
      "\n",
      "call=$(find $input_dir -name \"*.fastq\" | \\\n",
      "        xargs fastqc \\\n",
      "                --outdir $output_dir \\\n",
      "                --threads 2)                                   ### INPUT FASTQs\n",
      "    \n",
      "echo $call\n",
      "eval $call\n",
      "echo \"fastqc COMPLETE.\"\n",
      "echo \"\"\n",
      "    \n",
      "##################\n",
      "\n",
      "echo \"\"\n",
      "end=$(date +%s)\n",
      "echo \"end time: $end\"\n",
      "runtime_s=$(echo $(( end - start )))\n",
      "echo \"total run time(s): $runtime_s\"\n",
      "sec_per_min=60\n",
      "sec_per_hr=3600\n",
      "runtime_m=$(echo \"scale=2; $runtime_s / $sec_per_min;\" | bc)\n",
      "echo \"total run time(m): $runtime_m\"\n",
      "runtime_h=$(echo \"scale=2; $runtime_s / $sec_per_hr;\" | bc)\n",
      "echo \"total run time(h): $runtime_h\"\n",
      "\n",
      "\n"
     ]
    }
   ],
   "source": [
    "!cat fastqc_allinFolder_230723_slurm.sh"
   ]
  },
  {
   "cell_type": "code",
   "execution_count": 7,
   "id": "6b8b75fa-4cc4-49b5-9ffd-15d53c59e571",
   "metadata": {},
   "outputs": [
    {
     "name": "stdout",
     "output_type": "stream",
     "text": [
      "Submitted batch job 645885\n",
      "             JOBID PARTITION     NAME     USER ST       TIME  NODES NODELIST(REASON)\n",
      "            645884     nodes     bash   fmbuga  R      33:05      1 node59\n",
      "            645885     nodes fastqc_a   fmbuga  R       0:05      1 node60\n",
      "             JOBID PARTITION     NAME     USER ST       TIME  NODES NODELIST(REASON)\n",
      "            645884     nodes     bash   fmbuga  R      33:15      1 node59\n",
      "            645885     nodes fastqc_a   fmbuga  R       0:15      1 node60\n",
      "             JOBID PARTITION     NAME     USER ST       TIME  NODES NODELIST(REASON)\n",
      "            645884     nodes     bash   fmbuga  R      33:30      1 node59\n",
      "            645885     nodes fastqc_a   fmbuga  R       0:30      1 node60\n",
      "             JOBID PARTITION     NAME     USER ST       TIME  NODES NODELIST(REASON)\n",
      "            645884     nodes     bash   fmbuga  R      34:01      1 node59\n",
      "            645885     nodes fastqc_a   fmbuga  R       1:01      1 node60\n"
     ]
    }
   ],
   "source": [
    "# submit fastqc job to SLURM\n",
    "!sbatch fastqc_allinFolder_230723_slurm.sh \\\n",
    "    ./00_raw_fastq \\\n",
    "    ./00_raw_fastq\n",
    "\n",
    "!sleep 5\n",
    "!squeue -u fmbuga\n",
    "!sleep 10\n",
    "!squeue -u fmbuga\n",
    "!sleep 15\n",
    "!squeue -u fmbuga\n",
    "!sleep 30\n",
    "!squeue -u fmbuga"
   ]
  },
  {
   "cell_type": "code",
   "execution_count": 11,
   "id": "670a65ec-7f61-46f8-8084-9ec91c038792",
   "metadata": {},
   "outputs": [],
   "source": [
    "# Import libraries for HTML visualization\n",
    "from IPython.display import IFrame"
   ]
  },
  {
   "cell_type": "code",
   "execution_count": 12,
   "id": "07d24c40-e0b8-4983-ba45-9d7c3de64b8a",
   "metadata": {},
   "outputs": [
    {
     "data": {
      "text/html": [
       "\n",
       "        <iframe\n",
       "            width=\"1500\"\n",
       "            height=\"2000\"\n",
       "            src=\"./00_raw_fastq/ERR1831349_1_fastqc.html\"\n",
       "            frameborder=\"0\"\n",
       "            allowfullscreen\n",
       "            \n",
       "        ></iframe>\n",
       "        "
      ],
      "text/plain": [
       "<IPython.lib.display.IFrame at 0x2b935913e490>"
      ]
     },
     "execution_count": 12,
     "metadata": {},
     "output_type": "execute_result"
    }
   ],
   "source": [
    "IFrame(src='./00_raw_fastq/ERR1831349_1_fastqc.html', width=1500, height=2000)"
   ]
  },
  {
   "cell_type": "code",
   "execution_count": 13,
   "id": "6b7d7840-ac53-4ea6-ba13-ddbb4962b410",
   "metadata": {},
   "outputs": [
    {
     "data": {
      "text/html": [
       "\n",
       "        <iframe\n",
       "            width=\"1500\"\n",
       "            height=\"2000\"\n",
       "            src=\"./00_raw_fastq/ERR1831349_2_fastqc.html\"\n",
       "            frameborder=\"0\"\n",
       "            allowfullscreen\n",
       "            \n",
       "        ></iframe>\n",
       "        "
      ],
      "text/plain": [
       "<IPython.lib.display.IFrame at 0x2b9357cf8290>"
      ]
     },
     "execution_count": 13,
     "metadata": {},
     "output_type": "execute_result"
    }
   ],
   "source": [
    "IFrame(src='./00_raw_fastq/ERR1831349_2_fastqc.html', width=1500, height=2000)"
   ]
  },
  {
   "cell_type": "markdown",
   "id": "60a49461-e655-4696-9d0b-ee298b595660",
   "metadata": {},
   "source": [
    "- since no red flags in FastQC, proceed with mapping\n",
    "- if mapping doesn't pass QC checks may return and see if some trimming helps"
   ]
  },
  {
   "cell_type": "markdown",
   "id": "426fa18d-9338-45e9-a562-4a42560acec2",
   "metadata": {},
   "source": [
    "## map reads to human reference hg38 with bwa mem"
   ]
  },
  {
   "cell_type": "code",
   "execution_count": 16,
   "id": "fea9dece-26df-474a-938c-155b486af7b7",
   "metadata": {},
   "outputs": [
    {
     "name": "stdout",
     "output_type": "stream",
     "text": [
      "#!/bin/bash\n",
      "#\n",
      "#SBATCH --job-name=bwa_mem_hg38_samtools_fastq_to_bam_230723\n",
      "#SBATCH --output=/home/fmbuga/tools/slurm_scripts/slurm_out_err/bwa_mem_hg38_samtools_fastq_to_bam_230723_%j.out\n",
      "#SBATCH --error=/home/fmbuga/tools/slurm_scripts/slurm_out_err/bwa_mem_hg38_samtools_fastq_to_bam_230723_%j.err\n",
      "#\n",
      "#SBATCH --ntasks=1\n",
      "#SBATCH --cpus-per-task=28\n",
      "##SBATCH --mem-per-cpu=4G\n",
      "\n",
      "datenow=$(date)\n",
      "echo $datenow\n",
      "echo \"\"\n",
      "srun hostname\n",
      "echo \"\"\n",
      "\n",
      "start=$(date +%s)\n",
      "echo \"start time: $start\"\n",
      "echo \"\"\n",
      "echo \"hostname: $HOSTNAME\"\n",
      "echo \"\"\n",
      "\n",
      "\n",
      "##################\n",
      "\n",
      "eval \"$(conda shell.bash hook)\"\n",
      "conda activate gatk4                      ### CONDA ENVIRONMENT NAME\n",
      "conda info\n",
      "echo \"\"\n",
      "\n",
      "\n",
      "call=\"bwa\" # to get the version\n",
      "echo \"bwa version\"\n",
      "echo $call\n",
      "eval $call\n",
      "echo \"\"\n",
      "\n",
      "call=\"samtools --version\"\n",
      "echo $call\n",
      "eval $call\n",
      "echo \"\"\n",
      "\n",
      "fastq1=$1                             ### INPUT FASTQ1\n",
      "fastq2=$2                             ### INPUT FASTQ2\n",
      "output_dir=$3                         ### OUTPUT DIRECTORY \n",
      "\n",
      "echo \"output directory: $output_dir\"\n",
      "echo \"\"\n",
      "\n",
      "out_name=$(basename $fastq1 _1.fastq)\n",
      "echo $out_name\n",
      "\n",
      "echo $output_dir$out_name.bam\n",
      "\n",
      "# bwa mem --> samtools\n",
      "\n",
      "call=$(bwa mem \\\n",
      "    -t 8 \\\n",
      "    -R \"@RG\\tID:$out_name\\tSM:$out_name\" \\\n",
      "    ~/tools/hg38/hg38.fa \\\n",
      "    $fastq1 $fastq2 | \\\n",
      "        samtools view -uh | \\\n",
      "            samtools sort \\\n",
      "                -o \"$output_dir$out_name\".bam \\\n",
      "                -@ 28 \\\n",
      "                --write-index \\\n",
      "                --verbosity 9 \\\n",
      "                -m 2G)                                   ### INPUT FASTQs\n",
      "    \n",
      "echo $call\n",
      "eval $call\n",
      "echo \"\"\n",
      "\n",
      "echo \"mapping to ref, and sorting and indexing bam COMPLETE.\"\n",
      "echo \"\"\n",
      "    \n",
      "##################\n",
      "\n",
      "echo \"\"\n",
      "end=$(date +%s)\n",
      "echo \"end time: $end\"\n",
      "runtime_s=$(echo $(( end - start )))\n",
      "echo \"total run time(s): $runtime_s\"\n",
      "sec_per_min=60\n",
      "sec_per_hr=3600\n",
      "runtime_m=$(echo \"scale=2; $runtime_s / $sec_per_min;\" | bc)\n",
      "echo \"total run time(m): $runtime_m\"\n",
      "runtime_h=$(echo \"scale=2; $runtime_s / $sec_per_hr;\" | bc)\n",
      "echo \"total run time(h): $runtime_h\"\n",
      "\n",
      "\n"
     ]
    }
   ],
   "source": [
    "!cat bwa_mem_hg38_samtools_fastq_to_bam_230723_slurm.sh"
   ]
  },
  {
   "cell_type": "code",
   "execution_count": 15,
   "id": "203d30de-2267-43db-a239-d97a90ed04e5",
   "metadata": {},
   "outputs": [],
   "source": [
    "# create directory to output bam files to\n",
    "!mkdir ./01_raw_bam"
   ]
  },
  {
   "cell_type": "code",
   "execution_count": 1,
   "id": "0ae7a7e1-7ea3-454b-88ea-87561ace50ac",
   "metadata": {},
   "outputs": [
    {
     "name": "stdout",
     "output_type": "stream",
     "text": [
      "Submitted batch job 645893\n",
      "             JOBID PARTITION     NAME     USER ST       TIME  NODES NODELIST(REASON)\n",
      "            645891     nodes     bash   fmbuga  R      28:21      1 node58\n",
      "            645893     nodes bwa_mem_   fmbuga  R       0:05      1 node05\n",
      "             JOBID PARTITION     NAME     USER ST       TIME  NODES NODELIST(REASON)\n",
      "            645891     nodes     bash   fmbuga  R      28:31      1 node58\n",
      "            645893     nodes bwa_mem_   fmbuga  R       0:15      1 node05\n",
      "             JOBID PARTITION     NAME     USER ST       TIME  NODES NODELIST(REASON)\n",
      "            645891     nodes     bash   fmbuga  R      28:46      1 node58\n",
      "            645893     nodes bwa_mem_   fmbuga  R       0:30      1 node05\n",
      "             JOBID PARTITION     NAME     USER ST       TIME  NODES NODELIST(REASON)\n",
      "            645891     nodes     bash   fmbuga  R      29:16      1 node58\n",
      "            645893     nodes bwa_mem_   fmbuga  R       1:00      1 node05\n"
     ]
    }
   ],
   "source": [
    "# submit mapping job to SLURM HPC\n",
    "!sbatch bwa_mem_hg38_samtools_fastq_to_bam_230723_slurm.sh \\\n",
    "    ./00_raw_fastq/ERR1831349_1.fastq \\\n",
    "    ./00_raw_fastq/ERR1831349_2.fastq \\\n",
    "    ./01_raw_bam/\n",
    "\n",
    "!sleep 5\n",
    "!squeue -u fmbuga\n",
    "!sleep 10\n",
    "!squeue -u fmbuga\n",
    "!sleep 15\n",
    "!squeue -u fmbuga\n",
    "!sleep 30\n",
    "!squeue -u fmbuga"
   ]
  },
  {
   "cell_type": "code",
   "execution_count": 2,
   "id": "87122898-4a7c-4e77-afad-1995ff65fc87",
   "metadata": {},
   "outputs": [
    {
     "name": "stdout",
     "output_type": "stream",
     "text": [
      "93603695 + 0 in total (QC-passed reads + QC-failed reads)\n",
      "93556700 + 0 primary\n",
      "0 + 0 secondary\n",
      "46995 + 0 supplementary\n",
      "0 + 0 duplicates\n",
      "0 + 0 primary duplicates\n",
      "93403023 + 0 mapped (99.79% : N/A)\n",
      "93356028 + 0 primary mapped (99.79% : N/A)\n",
      "93556700 + 0 paired in sequencing\n",
      "46778350 + 0 read1\n",
      "46778350 + 0 read2\n",
      "92600884 + 0 properly paired (98.98% : N/A)\n",
      "93279060 + 0 with itself and mate mapped\n",
      "76968 + 0 singletons (0.08% : N/A)\n",
      "593850 + 0 with mate mapped to a different chr\n",
      "517790 + 0 with mate mapped to a different chr (mapQ>=5)\n"
     ]
    }
   ],
   "source": [
    "# QC check output bam file\n",
    "!samtools flagstat \\\n",
    "    -@ 28 \\\n",
    "    ./01_raw_bam/ERR1831349.bam"
   ]
  },
  {
   "cell_type": "markdown",
   "id": "e0583f50-39d0-492f-9973-e5c9558499dd",
   "metadata": {},
   "source": [
    "- based on the high mapping rate (~99%) no need to go back and trim fastq reads\n",
    "- proceed with marking duplicates"
   ]
  },
  {
   "cell_type": "markdown",
   "id": "39536291-1368-4ce1-9d22-9c298de765c8",
   "metadata": {},
   "source": [
    "## Mark Duplicates"
   ]
  },
  {
   "cell_type": "code",
   "execution_count": 9,
   "id": "10a923b1-11e4-4c0e-8d6d-cc80c3a3099f",
   "metadata": {},
   "outputs": [
    {
     "name": "stdout",
     "output_type": "stream",
     "text": [
      "#!/bin/bash\n",
      "#\n",
      "#SBATCH --job-name=gatk_markDuplicates_221003\n",
      "#SBATCH --output=/home/fmbuga/tools/slurm_scripts/slurm_out_err/gatk_markDuplicates_221003_%j.out\n",
      "#SBATCH --error=/home/fmbuga/tools/slurm_scripts/slurm_out_err/gatk_markDuplicates_221003_%j.err\n",
      "#\n",
      "#SBATCH --ntasks=1\n",
      "#SBATCH --cpus-per-task=28\n",
      "#SBATCH --mem=0\n",
      "\n",
      "datenow=$(date)\n",
      "echo $datenow\n",
      "echo \"\"\n",
      "srun hostname\n",
      "echo \"\"\n",
      "\n",
      "start=$(date +%s)\n",
      "echo \"start time: $start\"\n",
      "echo \"\"\n",
      "echo \"hostname: $HOSTNAME\"\n",
      "echo \"\"\n",
      "\n",
      "\n",
      "##################\n",
      "\n",
      "eval \"$(conda shell.bash hook)\"\n",
      "conda activate gatk4                      ### CONDA ENVIRONMENT NAME\n",
      "conda info\n",
      "echo \"\"\n",
      "\n",
      "\n",
      "call=\"gatk MarkDuplicates --version\" # to get the version\n",
      "echo $call\n",
      "eval $call\n",
      "echo \"\"\n",
      "\n",
      "call=\"gatk MarkDuplicatesSpark --version\" # to get the version\n",
      "echo $call\n",
      "eval $call\n",
      "echo \"\"\n",
      "\n",
      "call=\"gatk MarkDuplicates --help\" # help\n",
      "echo $call\n",
      "eval $call\n",
      "echo \"\"\n",
      "\n",
      "call=\"gatk MarkDuplicatesSpark --help\" # help\n",
      "echo $call\n",
      "eval $call\n",
      "echo \"\"\n",
      "\n",
      "\n",
      "input_bam=$1                            ### INPUT BAM\n",
      "output_dir=$2                           ### OUTPUT DIRECTORY \n",
      "\n",
      "\n",
      "echo \"output directory: $output_dir\"\n",
      "echo \"\"\n",
      "\n",
      "out_name=$(basename $input_bam .bam)\n",
      "echo $out_name\n",
      "\n",
      "echo $output_dir$out_name.bam\n",
      "\n",
      "# gatk MarkDuplicatesSpark\n",
      "\n",
      "call=$(gatk MarkDuplicatesSpark \\\n",
      "            -I $input_bam \\\n",
      "            -O \"$output_dir$out_name\"_markdup.bam \\\n",
      "            -M \"$output_dir$out_name\"_markdup_metrics.txt \\\n",
      "            --conf \"spark.local.dir=$output_dir\")        ### INPUT BAM\n",
      "                        ### Note if 'spark.executor.cores' is unset, Spark will use all available cores on the machine.\n",
      "                        ### https://gatk.broadinstitute.org/hc/en-us/articles/360037224932-MarkDuplicatesSpark\n",
      "                            ### \"This Spark tool requires a significant amount of disk operations. Run with both the input data and outputs on high throughput SSDs when possible. \n",
      "                            ### When pipelining this tool on Google Compute Engine instances, for best performance requisition machines with LOCAL SSDs.\"\n",
      "                            ### \"Furthermore, we recommend explicitly setting the Spark temp directory to an available SSD when \n",
      "                            ### running this in local mode by adding the argument --conf 'spark.local.dir=/PATH/TO/TEMP/DIR'.\"\n",
      "    \n",
      "echo $call\n",
      "eval $call\n",
      "echo \"\"\n",
      "\n",
      "echo \"marking duplicates COMPLETE.\"\n",
      "echo \"\"\n",
      "    \n",
      "##################\n",
      "\n",
      "echo \"\"\n",
      "end=$(date +%s)\n",
      "echo \"end time: $end\"\n",
      "runtime_s=$(echo $(( end - start )))\n",
      "echo \"total run time(s): $runtime_s\"\n",
      "sec_per_min=60\n",
      "sec_per_hr=3600\n",
      "runtime_m=$(echo \"scale=2; $runtime_s / $sec_per_min;\" | bc)\n",
      "echo \"total run time(m): $runtime_m\"\n",
      "runtime_h=$(echo \"scale=2; $runtime_s / $sec_per_hr;\" | bc)\n",
      "echo \"total run time(h): $runtime_h\"\n",
      "\n",
      "\n"
     ]
    }
   ],
   "source": [
    "!cat gatk_markDuplicates_230724_slurm.sh"
   ]
  },
  {
   "cell_type": "code",
   "execution_count": 10,
   "id": "23133fa4-b52c-4ddd-a0ec-2a1af4c24067",
   "metadata": {},
   "outputs": [
    {
     "name": "stdout",
     "output_type": "stream",
     "text": [
      "Submitted batch job 646016\n",
      "             JOBID PARTITION     NAME     USER ST       TIME  NODES NODELIST(REASON)\n",
      "            646009     nodes     bash   fmbuga  R    1:31:36      1 node58\n",
      "            646016     nodes gatk_mar   fmbuga  R       0:05      1 node25\n",
      "             JOBID PARTITION     NAME     USER ST       TIME  NODES NODELIST(REASON)\n",
      "            646009     nodes     bash   fmbuga  R    1:31:46      1 node58\n",
      "            646016     nodes gatk_mar   fmbuga  R       0:15      1 node25\n",
      "             JOBID PARTITION     NAME     USER ST       TIME  NODES NODELIST(REASON)\n",
      "            646009     nodes     bash   fmbuga  R    1:32:02      1 node58\n",
      "            646016     nodes gatk_mar   fmbuga  R       0:31      1 node25\n",
      "             JOBID PARTITION     NAME     USER ST       TIME  NODES NODELIST(REASON)\n",
      "            646009     nodes     bash   fmbuga  R    1:32:32      1 node58\n",
      "            646016     nodes gatk_mar   fmbuga  R       1:01      1 node25\n"
     ]
    }
   ],
   "source": [
    "# submit mark duplicates job to SLURM HPC\n",
    "!sbatch gatk_markDuplicates_230724_slurm.sh \\\n",
    "    ./01_raw_bam/ERR1831349.bam \\\n",
    "    ./02_bam_markdup/\n",
    "\n",
    "!sleep 5\n",
    "!squeue -u fmbuga\n",
    "!sleep 10\n",
    "!squeue -u fmbuga\n",
    "!sleep 15\n",
    "!squeue -u fmbuga\n",
    "!sleep 30\n",
    "!squeue -u fmbuga"
   ]
  },
  {
   "cell_type": "code",
   "execution_count": 11,
   "id": "a978331c-2c85-4567-a250-12674d5af00b",
   "metadata": {},
   "outputs": [
    {
     "name": "stdout",
     "output_type": "stream",
     "text": [
      "93603695 + 0 in total (QC-passed reads + QC-failed reads)\n",
      "0 + 0 secondary\n",
      "46995 + 0 supplementary\n",
      "34258723 + 0 duplicates\n",
      "93403023 + 0 mapped (99.79% : N/A)\n",
      "93556700 + 0 paired in sequencing\n",
      "46778350 + 0 read1\n",
      "46778350 + 0 read2\n",
      "92600884 + 0 properly paired (98.98% : N/A)\n",
      "93279060 + 0 with itself and mate mapped\n",
      "76968 + 0 singletons (0.08% : N/A)\n",
      "593850 + 0 with mate mapped to a different chr\n",
      "517790 + 0 with mate mapped to a different chr (mapQ>=5)\n"
     ]
    }
   ],
   "source": [
    "!samtools flagstat \\\n",
    "    -@ 28 \\\n",
    "    ./02_bam_markdup/ERR1831349_markdup.bam"
   ]
  },
  {
   "cell_type": "markdown",
   "id": "0aafdb0c-76d5-4430-8bc0-f556ff0662a4",
   "metadata": {},
   "source": [
    "## Variant Calling"
   ]
  },
  {
   "cell_type": "code",
   "execution_count": 12,
   "id": "5fe638bc-87df-4853-b84a-b580b58db2d3",
   "metadata": {},
   "outputs": [],
   "source": [
    "# make folder to store vcf\n",
    "!mkdir 03_vcf_raw"
   ]
  },
  {
   "cell_type": "code",
   "execution_count": 4,
   "id": "6f6683b9-064f-4bd8-88d7-1b53e44e52f2",
   "metadata": {},
   "outputs": [
    {
     "name": "stdout",
     "output_type": "stream",
     "text": [
      "#!/bin/bash\n",
      "#\n",
      "#SBATCH --job-name=bcftools_mpileup_call_ONT_P099_221129\n",
      "#SBATCH --output=/home/fmbuga/tools/slurm_scripts/slurm_out_err/bcftools_mpileup_call_ONT_P099_221129_%j.out\n",
      "#SBATCH --error=/home/fmbuga/tools/slurm_scripts/slurm_out_err/bcftools_mpileup_call_ONT_P099_221129_%j.err\n",
      "#\n",
      "#SBATCH --ntasks=1\n",
      "#SBATCH --cpus-per-task=1\n",
      "#SBATCH --mem=0\n",
      "\n",
      "\n",
      "# \"...multithreading ...is currently used only for the compression of the output stream, only when --output-type is b or z\"\n",
      "# https://samtools.github.io/bcftools/bcftools.html\n",
      "# \"Use the -Ou option when piping between bcftools subcommands to speed up performance by removing unnecessary compression/decompression and VCF←→BCF conversion\"\n",
      "# for ONT https://github.com/samtools/bcftools/issues/1666\n",
      "\n",
      "# \"For ONT it may be beneficial to also run bcftools call with a higher -P, eg -P0.01 or -P 0.1\"\n",
      "\n",
      "\n",
      "datenow=$(date)\n",
      "echo $datenow\n",
      "srun hostname\n",
      "echo \"\"\n",
      "\n",
      "start=$(date +%s)\n",
      "echo \"start time: $start\"\n",
      "echo \"hostname: $HOSTNAME\"\n",
      "echo \"\"\n",
      "\n",
      "\n",
      "##################\n",
      "\n",
      "eval \"$(conda shell.bash hook)\"\n",
      "conda activate minimap2_224                      ### CONDA ENVIRONMENT NAME\n",
      "conda info\n",
      "echo \"\"\n",
      "\n",
      "\n",
      "call=\"bcftools --version\"\n",
      "echo $call\n",
      "eval $call\n",
      "echo \"\"\n",
      "\n",
      "input_bam=$1\n",
      "output_dir=$2\n",
      "\n",
      "filename=$(basename $1 .bam)\n",
      "\n",
      "call=$(bcftools mpileup \\\n",
      "    -Ou \\\n",
      "    -f ~/tools/hg38/hg38.fa \\\n",
      "    $input_bam |\\\n",
      "    bcftools call \\\n",
      "        --ploidy GRCh38 \\\n",
      "        -m -v \\\n",
      "        -P 0.99 \\\n",
      "        -o \"$output_dir$filename\"_bcftools_P_099.vcf) # INPUT BAM\n",
      "    \n",
      "echo $call\n",
      "eval $call\n",
      "echo \"\"\n",
      "\n",
      "echo \"bcftools mpileup call COMPLETE.\"\n",
      "echo \"\"\n",
      "    \n",
      "##################\n",
      "\n",
      "\n",
      "echo \"\"\n",
      "end=$(date +%s)\n",
      "echo \"end time: $end\"\n",
      "runtime_s=$(echo $(( end - start )))\n",
      "echo \"total run time(s): $runtime_s\"\n",
      "sec_per_min=60\n",
      "sec_per_hr=3600\n",
      "runtime_m=$(echo \"scale=2; $runtime_s / $sec_per_min;\" | bc)\n",
      "echo \"total run time(m): $runtime_m\"\n",
      "runtime_h=$(echo \"scale=2; $runtime_s / $sec_per_hr;\" | bc)\n",
      "echo \"total run time(h): $runtime_h\"\n",
      "\n"
     ]
    }
   ],
   "source": [
    "!cat bcftools_mpileup_call_P099_230724_slurm.sh"
   ]
  },
  {
   "cell_type": "code",
   "execution_count": 5,
   "id": "c4b0f1eb-8fc4-4d43-8306-639f65b42576",
   "metadata": {},
   "outputs": [
    {
     "name": "stdout",
     "output_type": "stream",
     "text": [
      "Submitted batch job 646019\n",
      "             JOBID PARTITION     NAME     USER ST       TIME  NODES NODELIST(REASON)\n",
      "            646017     nodes     bash   fmbuga  R      17:31      1 node58\n",
      "            646019     nodes bcftools   fmbuga  R       0:04      1 node25\n",
      "             JOBID PARTITION     NAME     USER ST       TIME  NODES NODELIST(REASON)\n",
      "            646017     nodes     bash   fmbuga  R      17:42      1 node58\n",
      "            646019     nodes bcftools   fmbuga  R       0:15      1 node25\n",
      "             JOBID PARTITION     NAME     USER ST       TIME  NODES NODELIST(REASON)\n",
      "            646017     nodes     bash   fmbuga  R      17:57      1 node58\n",
      "            646019     nodes bcftools   fmbuga  R       0:30      1 node25\n",
      "             JOBID PARTITION     NAME     USER ST       TIME  NODES NODELIST(REASON)\n",
      "            646017     nodes     bash   fmbuga  R      18:27      1 node58\n",
      "            646019     nodes bcftools   fmbuga  R       1:00      1 node25\n"
     ]
    }
   ],
   "source": [
    "# submit bcftools mpileup call variants job to SLURM HPC\n",
    "!sbatch bcftools_mpileup_call_P099_230724_slurm.sh \\\n",
    "    ./02_bam_markdup/ERR1831349_markdup.bam \\\n",
    "    ./03_vcf_raw/\n",
    "\n",
    "!sleep 5\n",
    "!squeue -u fmbuga\n",
    "!sleep 10\n",
    "!squeue -u fmbuga\n",
    "!sleep 15\n",
    "!squeue -u fmbuga\n",
    "!sleep 30\n",
    "!squeue -u fmbuga"
   ]
  },
  {
   "cell_type": "code",
   "execution_count": 2,
   "id": "5bdb7924-c3b0-43cd-bb25-12eea495fbe4",
   "metadata": {},
   "outputs": [
    {
     "name": "stdout",
     "output_type": "stream",
     "text": [
      "SN\t0\tnumber of samples:\t1\n",
      "SN\t0\tnumber of records:\t2827413\n",
      "SN\t0\tnumber of no-ALTs:\t0\n",
      "SN\t0\tnumber of SNPs:\t2767029\n",
      "SN\t0\tnumber of MNPs:\t0\n",
      "SN\t0\tnumber of indels:\t60384\n",
      "SN\t0\tnumber of others:\t0\n",
      "SN\t0\tnumber of multiallelic sites:\t17138\n",
      "SN\t0\tnumber of multiallelic SNP sites:\t1595\n"
     ]
    }
   ],
   "source": [
    "!bcftools stats \\\n",
    "    --threads 28 \\\n",
    "    03_vcf_raw/ERR1831349_markdup_bcftools_P_099.vcf | grep ^SN"
   ]
  },
  {
   "cell_type": "code",
   "execution_count": 9,
   "id": "ee7547e5-f523-4e20-a47b-e2b21f2f9eff",
   "metadata": {},
   "outputs": [
    {
     "name": "stdout",
     "output_type": "stream",
     "text": [
      "#!/bin/bash\n",
      "#\n",
      "#SBATCH --job-name=bcftools_filter_snps_only_230725\n",
      "#SBATCH --output=/home/fmbuga/tools/slurm_scripts/slurm_out_err/bcftools_filter_snps_only_230725_%j.out\n",
      "#SBATCH --error=/home/fmbuga/tools/slurm_scripts/slurm_out_err/bcftools_filter_snps_only_230725_%j.err\n",
      "#\n",
      "#SBATCH --ntasks=1\n",
      "#SBATCH --cpus-per-task=28\n",
      "#SBATCH --mem=0\n",
      "\n",
      "\n",
      "datenow=$(date)\n",
      "echo $datenow\n",
      "srun hostname\n",
      "echo \"\"\n",
      "\n",
      "start=$(date +%s)\n",
      "echo \"start time: $start\"\n",
      "echo \"hostname: $HOSTNAME\"\n",
      "echo \"\"\n",
      "\n",
      "\n",
      "##################\n",
      "\n",
      "eval \"$(conda shell.bash hook)\"\n",
      "conda activate minimap2_224                      ### CONDA ENVIRONMENT NAME\n",
      "conda info\n",
      "echo \"\"\n",
      "\n",
      "\n",
      "call=\"bcftools --version\"\n",
      "echo $call\n",
      "eval $call\n",
      "echo \"\"\n",
      "\n",
      "input_vcf=$1\n",
      "output_dir=$2\n",
      "\n",
      "filename=$(basename $1 .vcf)\n",
      "\n",
      "\n",
      "call=$(bcftools filter \\\n",
      "    -i 'TYPE=\"snp\"' \\\n",
      "    $input_vcf \\\n",
      "    --threads 28 \\\n",
      "    -o \"$output_dir$filename\"_snps_only.vcf)\n",
      "    \n",
      "    \n",
      "echo $call\n",
      "eval $call\n",
      "echo \"\"\n",
      "\n",
      "echo \"bcftools filter keep snps only COMPLETE.\"\n",
      "echo \"\"\n",
      "    \n",
      "##################\n",
      "\n",
      "\n",
      "echo \"\"\n",
      "end=$(date +%s)\n",
      "echo \"end time: $end\"\n",
      "runtime_s=$(echo $(( end - start )))\n",
      "echo \"total run time(s): $runtime_s\"\n",
      "sec_per_min=60\n",
      "sec_per_hr=3600\n",
      "runtime_m=$(echo \"scale=2; $runtime_s / $sec_per_min;\" | bc)\n",
      "echo \"total run time(m): $runtime_m\"\n",
      "runtime_h=$(echo \"scale=2; $runtime_s / $sec_per_hr;\" | bc)\n",
      "echo \"total run time(h): $runtime_h\"\n",
      "\n"
     ]
    }
   ],
   "source": [
    "# filter to keep SNVs only\n",
    "!cat bcftools_filter_snps_only_230725_slurm.sh"
   ]
  },
  {
   "cell_type": "code",
   "execution_count": 11,
   "id": "4de035ee-9281-4505-a3f7-f6dddccdc0ff",
   "metadata": {},
   "outputs": [],
   "source": [
    "# create folder to store snps_only vcf\n",
    "!mkdir ./04_vcf_snps_only/"
   ]
  },
  {
   "cell_type": "code",
   "execution_count": 12,
   "id": "8c482216-bafc-4b1d-b4d2-ae200ec2f38f",
   "metadata": {},
   "outputs": [
    {
     "name": "stdout",
     "output_type": "stream",
     "text": [
      "Submitted batch job 646161\n",
      "             JOBID PARTITION     NAME     USER ST       TIME  NODES NODELIST(REASON)\n",
      "            646156     nodes     bash   fmbuga  R      41:12      1 node25\n",
      "            646161     nodes bcftools   fmbuga  R       0:04      1 node58\n",
      "             JOBID PARTITION     NAME     USER ST       TIME  NODES NODELIST(REASON)\n",
      "            646156     nodes     bash   fmbuga  R      41:23      1 node25\n",
      "             JOBID PARTITION     NAME     USER ST       TIME  NODES NODELIST(REASON)\n",
      "            646156     nodes     bash   fmbuga  R      41:38      1 node25\n",
      "             JOBID PARTITION     NAME     USER ST       TIME  NODES NODELIST(REASON)\n",
      "            646156     nodes     bash   fmbuga  R      42:08      1 node25\n"
     ]
    }
   ],
   "source": [
    "# submit snps filter job to SLURM HPC\n",
    "!sbatch bcftools_filter_snps_only_230725_slurm.sh \\\n",
    "    ./03_vcf_raw/ERR1831349_markdup_bcftools_P_099.vcf \\\n",
    "    ./04_vcf_snps_only/\n",
    "\n",
    "!sleep 5\n",
    "!squeue -u fmbuga\n",
    "!sleep 10\n",
    "!squeue -u fmbuga\n",
    "!sleep 15\n",
    "!squeue -u fmbuga\n",
    "!sleep 30\n",
    "!squeue -u fmbuga"
   ]
  },
  {
   "cell_type": "code",
   "execution_count": 13,
   "id": "08ae5c51-6ea2-4652-b0df-0bd5068f7058",
   "metadata": {},
   "outputs": [
    {
     "name": "stdout",
     "output_type": "stream",
     "text": [
      "SN\t0\tnumber of samples:\t1\n",
      "SN\t0\tnumber of records:\t2767029\n",
      "SN\t0\tnumber of no-ALTs:\t0\n",
      "SN\t0\tnumber of SNPs:\t2767029\n",
      "SN\t0\tnumber of MNPs:\t0\n",
      "SN\t0\tnumber of indels:\t0\n",
      "SN\t0\tnumber of others:\t0\n",
      "SN\t0\tnumber of multiallelic sites:\t1595\n",
      "SN\t0\tnumber of multiallelic SNP sites:\t1595\n"
     ]
    }
   ],
   "source": [
    "!bcftools stats \\\n",
    "    --threads 28 \\\n",
    "    04_vcf_snps_only/ERR1831349_markdup_bcftools_P_099_snps_only.vcf | grep ^SN"
   ]
  },
  {
   "cell_type": "markdown",
   "id": "ba71b19c-82d1-4a98-b712-aca5101563c9",
   "metadata": {},
   "source": [
    "## Only Keep Calls that Intersect with Exome Target Regions and GIAB Truth Set"
   ]
  },
  {
   "cell_type": "code",
   "execution_count": 14,
   "id": "8506cb96-3dcc-42e8-ad28-4a0c28eb87ff",
   "metadata": {},
   "outputs": [
    {
     "name": "stdout",
     "output_type": "stream",
     "text": [
      "CPU times: user 72.2 ms, sys: 25.1 ms, total: 97.3 ms\n",
      "Wall time: 4.92 s\n"
     ]
    }
   ],
   "source": [
    "%%time\n",
    "# intersect vcf with GIAB truth set high-confidence regions BED\n",
    "\n",
    "!mkdir ./05_vcf_snps_only_GIAB_isec/\n",
    "\n",
    "!bedtools intersect \\\n",
    "    -a 04_vcf_snps_only/ERR1831349_markdup_bcftools_P_099_snps_only.vcf \\\n",
    "    -b ~/tools/GIAB/GRCh38/HG001_NA12878/NA12878_HG001_GRCh38_GIAB.bed \\\n",
    "    -header > 05_vcf_snps_only_GIAB_isec/ERR1831349_markdup_bcftools_P_099_snps_only_GIAB_isec.vcf"
   ]
  },
  {
   "cell_type": "code",
   "execution_count": 15,
   "id": "567620ef-79fa-4894-b024-4d8fa4e0375b",
   "metadata": {},
   "outputs": [
    {
     "name": "stdout",
     "output_type": "stream",
     "text": [
      "SN\t0\tnumber of samples:\t1\n",
      "SN\t0\tnumber of records:\t2099550\n",
      "SN\t0\tnumber of no-ALTs:\t0\n",
      "SN\t0\tnumber of SNPs:\t2099550\n",
      "SN\t0\tnumber of MNPs:\t0\n",
      "SN\t0\tnumber of indels:\t0\n",
      "SN\t0\tnumber of others:\t0\n",
      "SN\t0\tnumber of multiallelic sites:\t886\n",
      "SN\t0\tnumber of multiallelic SNP sites:\t886\n"
     ]
    }
   ],
   "source": [
    "!bcftools stats \\\n",
    "    --threads 28 \\\n",
    "    05_vcf_snps_only_GIAB_isec/ERR1831349_markdup_bcftools_P_099_snps_only_GIAB_isec.vcf | grep ^SN"
   ]
  },
  {
   "cell_type": "code",
   "execution_count": 16,
   "id": "02efe585-a1b0-4625-862e-936b4c6b5b91",
   "metadata": {},
   "outputs": [
    {
     "name": "stdout",
     "output_type": "stream",
     "text": [
      "CPU times: user 39.6 ms, sys: 22.8 ms, total: 62.4 ms\n",
      "Wall time: 2.74 s\n"
     ]
    }
   ],
   "source": [
    "%%time\n",
    "# intersect vcf with Agilent_SureSelect_Human_All_Exon_V4 exome target regions BED\n",
    "\n",
    "!mkdir ./06_vcf_snps_only_GIAB_WXS_isec/\n",
    "\n",
    "!bedtools intersect \\\n",
    "    -a 05_vcf_snps_only_GIAB_isec/ERR1831349_markdup_bcftools_P_099_snps_only_GIAB_isec.vcf \\\n",
    "    -b ~/tools/Agilent/SureSelect/SureSelect_Human_All_Exon_V4/Agilent_S04380110_hs_hg19/S04380110_Covered_hg19toHg38.bed \\\n",
    "    -header > 06_vcf_snps_only_GIAB_WXS_isec/ERR1831349_markdup_bcftools_P_099_snps_only_GIAB_WXS_isec.vcf"
   ]
  },
  {
   "cell_type": "code",
   "execution_count": 17,
   "id": "11057e71-7123-4bba-aea4-af45f03156a2",
   "metadata": {},
   "outputs": [
    {
     "name": "stdout",
     "output_type": "stream",
     "text": [
      "SN\t0\tnumber of samples:\t1\n",
      "SN\t0\tnumber of records:\t34676\n",
      "SN\t0\tnumber of no-ALTs:\t0\n",
      "SN\t0\tnumber of SNPs:\t34676\n",
      "SN\t0\tnumber of MNPs:\t0\n",
      "SN\t0\tnumber of indels:\t0\n",
      "SN\t0\tnumber of others:\t0\n",
      "SN\t0\tnumber of multiallelic sites:\t14\n",
      "SN\t0\tnumber of multiallelic SNP sites:\t14\n"
     ]
    }
   ],
   "source": [
    "!bcftools stats \\\n",
    "    --threads 28 \\\n",
    "    06_vcf_snps_only_GIAB_WXS_isec/ERR1831349_markdup_bcftools_P_099_snps_only_GIAB_WXS_isec.vcf | grep ^SN"
   ]
  },
  {
   "cell_type": "code",
   "execution_count": 18,
   "id": "be94aba7-efa5-489e-a47e-7c3303b0c459",
   "metadata": {},
   "outputs": [],
   "source": [
    "# intersect GIAB high confidence vcf with Agilent_SureSelect_Human_All_Exon_V4 exome target regions BED to compare to ERR1831349 vcf\n",
    "\n",
    "!bedtools intersect \\\n",
    "    -a ~/tools/GIAB/GRCh38/HG001_NA12878/NA12878_HG001_GRCh38_GIAB.vcf.gz \\\n",
    "    -b ~/tools/Agilent/SureSelect/SureSelect_Human_All_Exon_V4/Agilent_S04380110_hs_hg19/S04380110_Covered_hg19toHg38.bed \\\n",
    "    -header > 06_vcf_snps_only_GIAB_WXS_isec/NA12878_GIAB_WXS_Regions_hg19toHg38.vcf"
   ]
  },
  {
   "cell_type": "code",
   "execution_count": 19,
   "id": "083ef889-dffb-45f1-8919-4db1c9b38ec0",
   "metadata": {},
   "outputs": [
    {
     "name": "stdout",
     "output_type": "stream",
     "text": [
      "SN\t0\tnumber of samples:\t1\n",
      "SN\t0\tnumber of records:\t35415\n",
      "SN\t0\tnumber of no-ALTs:\t0\n",
      "SN\t0\tnumber of SNPs:\t32811\n",
      "SN\t0\tnumber of MNPs:\t0\n",
      "SN\t0\tnumber of indels:\t2607\n",
      "SN\t0\tnumber of others:\t2\n",
      "SN\t0\tnumber of multiallelic sites:\t65\n",
      "SN\t0\tnumber of multiallelic SNP sites:\t10\n"
     ]
    }
   ],
   "source": [
    "!bcftools stats \\\n",
    "    --threads 28 \\\n",
    "    06_vcf_snps_only_GIAB_WXS_isec/NA12878_GIAB_WXS_Regions_hg19toHg38.vcf | grep ^SN"
   ]
  },
  {
   "cell_type": "code",
   "execution_count": 20,
   "id": "234a5547-736b-4a66-b912-e6363b8c7e04",
   "metadata": {},
   "outputs": [],
   "source": [
    "# keep GIAB SNPs only\n",
    "\n",
    "!bcftools filter \\\n",
    "    -i 'TYPE=\"snp\"' \\\n",
    "    06_vcf_snps_only_GIAB_WXS_isec/NA12878_GIAB_WXS_Regions_hg19toHg38.vcf \\\n",
    "    --threads 28 \\\n",
    "    -o 06_vcf_snps_only_GIAB_WXS_isec/NA12878_GIAB_WXS_snps_only.vcf"
   ]
  },
  {
   "cell_type": "code",
   "execution_count": 21,
   "id": "23b28cda-abc4-4c2b-83c2-e742a0263e13",
   "metadata": {},
   "outputs": [
    {
     "name": "stdout",
     "output_type": "stream",
     "text": [
      "SN\t0\tnumber of samples:\t1\n",
      "SN\t0\tnumber of records:\t32806\n",
      "SN\t0\tnumber of no-ALTs:\t0\n",
      "SN\t0\tnumber of SNPs:\t32806\n",
      "SN\t0\tnumber of MNPs:\t0\n",
      "SN\t0\tnumber of indels:\t0\n",
      "SN\t0\tnumber of others:\t0\n",
      "SN\t0\tnumber of multiallelic sites:\t10\n",
      "SN\t0\tnumber of multiallelic SNP sites:\t10\n"
     ]
    }
   ],
   "source": [
    "!bcftools stats \\\n",
    "    --threads 28 \\\n",
    "    06_vcf_snps_only_GIAB_WXS_isec/NA12878_GIAB_WXS_snps_only.vcf | grep ^SN"
   ]
  },
  {
   "cell_type": "markdown",
   "id": "0610d17d-b067-43a1-a8e8-04a3ada15ba0",
   "metadata": {},
   "source": [
    "```\n",
    "NEXT STEP: use machine learning methods to filter the vcf\n",
    "```"
   ]
  }
 ],
 "metadata": {
  "kernelspec": {
   "display_name": "Python 3 (ipykernel)",
   "language": "python",
   "name": "python3"
  },
  "language_info": {
   "codemirror_mode": {
    "name": "ipython",
    "version": 3
   },
   "file_extension": ".py",
   "mimetype": "text/x-python",
   "name": "python",
   "nbconvert_exporter": "python",
   "pygments_lexer": "ipython3",
   "version": "3.11.0"
  }
 },
 "nbformat": 4,
 "nbformat_minor": 5
}
