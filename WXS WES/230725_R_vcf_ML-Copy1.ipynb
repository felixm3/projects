{
 "cells": [
  {
   "cell_type": "markdown",
   "id": "5e709c7c-0cff-4287-8ef0-0b109ee5574b",
   "metadata": {},
   "source": [
    "# 230725 Filter VCF variant calls with ML"
   ]
  },
  {
   "cell_type": "markdown",
   "id": "b696950b-0e71-4825-abd3-544a1994b4a0",
   "metadata": {},
   "source": [
    "## Load VCF files"
   ]
  },
  {
   "cell_type": "code",
   "execution_count": 1,
   "id": "75e460e3-83f1-4871-b510-70bbbde3710d",
   "metadata": {},
   "outputs": [
    {
     "name": "stderr",
     "output_type": "stream",
     "text": [
      "Loading required package: BiocGenerics\n",
      "\n",
      "\n",
      "Attaching package: ‘BiocGenerics’\n",
      "\n",
      "\n",
      "The following objects are masked from ‘package:stats’:\n",
      "\n",
      "    IQR, mad, sd, var, xtabs\n",
      "\n",
      "\n",
      "The following objects are masked from ‘package:base’:\n",
      "\n",
      "    anyDuplicated, aperm, append, as.data.frame, basename, cbind,\n",
      "    colnames, dirname, do.call, duplicated, eval, evalq, Filter, Find,\n",
      "    get, grep, grepl, intersect, is.unsorted, lapply, Map, mapply,\n",
      "    match, mget, order, paste, pmax, pmax.int, pmin, pmin.int,\n",
      "    Position, rank, rbind, Reduce, rownames, sapply, setdiff, sort,\n",
      "    table, tapply, union, unique, unsplit, which.max, which.min\n",
      "\n",
      "\n",
      "Loading required package: MatrixGenerics\n",
      "\n",
      "Loading required package: matrixStats\n",
      "\n",
      "\n",
      "Attaching package: ‘MatrixGenerics’\n",
      "\n",
      "\n",
      "The following objects are masked from ‘package:matrixStats’:\n",
      "\n",
      "    colAlls, colAnyNAs, colAnys, colAvgsPerRowSet, colCollapse,\n",
      "    colCounts, colCummaxs, colCummins, colCumprods, colCumsums,\n",
      "    colDiffs, colIQRDiffs, colIQRs, colLogSumExps, colMadDiffs,\n",
      "    colMads, colMaxs, colMeans2, colMedians, colMins, colOrderStats,\n",
      "    colProds, colQuantiles, colRanges, colRanks, colSdDiffs, colSds,\n",
      "    colSums2, colTabulates, colVarDiffs, colVars, colWeightedMads,\n",
      "    colWeightedMeans, colWeightedMedians, colWeightedSds,\n",
      "    colWeightedVars, rowAlls, rowAnyNAs, rowAnys, rowAvgsPerColSet,\n",
      "    rowCollapse, rowCounts, rowCummaxs, rowCummins, rowCumprods,\n",
      "    rowCumsums, rowDiffs, rowIQRDiffs, rowIQRs, rowLogSumExps,\n",
      "    rowMadDiffs, rowMads, rowMaxs, rowMeans2, rowMedians, rowMins,\n",
      "    rowOrderStats, rowProds, rowQuantiles, rowRanges, rowRanks,\n",
      "    rowSdDiffs, rowSds, rowSums2, rowTabulates, rowVarDiffs, rowVars,\n",
      "    rowWeightedMads, rowWeightedMeans, rowWeightedMedians,\n",
      "    rowWeightedSds, rowWeightedVars\n",
      "\n",
      "\n",
      "Loading required package: GenomeInfoDb\n",
      "\n",
      "Loading required package: S4Vectors\n",
      "\n",
      "Loading required package: stats4\n",
      "\n",
      "\n",
      "Attaching package: ‘S4Vectors’\n",
      "\n",
      "\n",
      "The following objects are masked from ‘package:base’:\n",
      "\n",
      "    expand.grid, I, unname\n",
      "\n",
      "\n",
      "Loading required package: IRanges\n",
      "\n",
      "Loading required package: GenomicRanges\n",
      "\n",
      "Loading required package: SummarizedExperiment\n",
      "\n",
      "Loading required package: Biobase\n",
      "\n",
      "Welcome to Bioconductor\n",
      "\n",
      "    Vignettes contain introductory material; view with\n",
      "    'browseVignettes()'. To cite Bioconductor, see\n",
      "    'citation(\"Biobase\")', and for packages 'citation(\"pkgname\")'.\n",
      "\n",
      "\n",
      "\n",
      "Attaching package: ‘Biobase’\n",
      "\n",
      "\n",
      "The following object is masked from ‘package:MatrixGenerics’:\n",
      "\n",
      "    rowMedians\n",
      "\n",
      "\n",
      "The following objects are masked from ‘package:matrixStats’:\n",
      "\n",
      "    anyMissing, rowMedians\n",
      "\n",
      "\n",
      "Loading required package: Rsamtools\n",
      "\n",
      "Loading required package: Biostrings\n",
      "\n",
      "Loading required package: XVector\n",
      "\n",
      "\n",
      "Attaching package: ‘Biostrings’\n",
      "\n",
      "\n",
      "The following object is masked from ‘package:base’:\n",
      "\n",
      "    strsplit\n",
      "\n",
      "\n",
      "\n",
      "Attaching package: ‘VariantAnnotation’\n",
      "\n",
      "\n",
      "The following object is masked from ‘package:base’:\n",
      "\n",
      "    tabulate\n",
      "\n",
      "\n"
     ]
    }
   ],
   "source": [
    "library(VariantAnnotation)"
   ]
  },
  {
   "cell_type": "code",
   "execution_count": 2,
   "id": "92f91ef3-e21b-4cfe-8c15-afe97f3582f2",
   "metadata": {},
   "outputs": [
    {
     "data": {
      "text/plain": [
       "class: CollapsedVCF \n",
       "dim: 32806 1 \n",
       "rowRanges(vcf):\n",
       "  GRanges with 5 metadata columns: paramRangeID, REF, ALT, QUAL, FILTER\n",
       "info(vcf):\n",
       "  DataFrame with 16 columns: DPSum, platforms, platformnames, platformbias, ...\n",
       "info(header(vcf)):\n",
       "                                   Number Type    Description                  \n",
       "   DPSum                           1      Integer Total read depth summed ac...\n",
       "   platforms                       1      Integer Number of different platfo...\n",
       "   platformnames                   .      String  Names of platforms for whi...\n",
       "   platformbias                    .      String  Names of platforms that ha...\n",
       "   datasets                        1      Integer Number of different datase...\n",
       "   datasetnames                    .      String  Names of datasets for whic...\n",
       "   datasetsmissingcall             .      String  Names of datasets that are...\n",
       "   callsets                        1      Integer Number of different callse...\n",
       "   callsetnames                    .      String  Names of callsets that cal...\n",
       "   varType                         1      String  Type of variant              \n",
       "   filt                            .      String  List of callsets that had ...\n",
       "   callable                        .      String  List of callsets that had ...\n",
       "   difficultregion                 .      String  List of difficult region b...\n",
       "   arbitrated                      1      String  TRUE if callsets had disco...\n",
       "   callsetwiththisuniqgenopassing  .      String  Callset that uniquely call...\n",
       "   callsetwithotheruniqgenopassing .      String  Callset that uniquely call...\n",
       "geno(vcf):\n",
       "  List of length 8: GT, DP, GQ, ADALL, AD, IGT, IPS, PS\n",
       "geno(header(vcf)):\n",
       "         Number Type    Description                                            \n",
       "   GT    1      String  Consensus Genotype across all datasets with called g...\n",
       "   DP    1      Integer Total read depth summed across all datasets, excludi...\n",
       "   GQ    1      Integer Net Genotype quality across all datasets, calculated...\n",
       "   ADALL R      Integer Net allele depths across all datasets                  \n",
       "   AD    R      Integer Net allele depths across all unfiltered datasets wit...\n",
       "   IGT   1      String  Original input genotype                                \n",
       "   IPS   1      String  Phase set for IGT                                      \n",
       "   PS    1      String  Phase set for GT                                       "
      ]
     },
     "metadata": {},
     "output_type": "display_data"
    }
   ],
   "source": [
    "# load GIAB truth set VCF\n",
    "vcf_to_read <- '~/ERR1831349/06_vcf_snps_only_GIAB_WXS_isec/NA12878_GIAB_WXS_snps_only.vcf'\n",
    "(GIAB_vcf <- readVcf(vcf_to_read))"
   ]
  },
  {
   "cell_type": "code",
   "execution_count": 3,
   "id": "ff1339e9-65fc-4d25-929c-57c19bf11411",
   "metadata": {},
   "outputs": [
    {
     "data": {
      "text/plain": [
       "class: CollapsedVCF \n",
       "dim: 34676 1 \n",
       "rowRanges(vcf):\n",
       "  GRanges with 5 metadata columns: paramRangeID, REF, ALT, QUAL, FILTER\n",
       "info(vcf):\n",
       "  DataFrame with 17 columns: INDEL, IDV, IMF, DP, VDB, RPBZ, MQBZ, BQBZ, MQS...\n",
       "info(header(vcf)):\n",
       "         Number Type    Description                                            \n",
       "   INDEL 0      Flag    Indicates that the variant is an INDEL.                \n",
       "   IDV   1      Integer Maximum number of raw reads supporting an indel        \n",
       "   IMF   1      Float   Maximum fraction of raw reads supporting an indel      \n",
       "   DP    1      Integer Raw read depth                                         \n",
       "   VDB   1      Float   Variant Distance Bias for filtering splice-site arte...\n",
       "   RPBZ  1      Float   Mann-Whitney U-z test of Read Position Bias (closer ...\n",
       "   MQBZ  1      Float   Mann-Whitney U-z test of Mapping Quality Bias (close...\n",
       "   BQBZ  1      Float   Mann-Whitney U-z test of Base Quality Bias (closer t...\n",
       "   MQSBZ 1      Float   Mann-Whitney U-z test of Mapping Quality vs Strand B...\n",
       "   SCBZ  1      Float   Mann-Whitney U-z test of Soft-Clip Length Bias (clos...\n",
       "   FS    1      Float   Phred-scaled p-value using Fisher's exact test to de...\n",
       "   SGB   1      Float   Segregation based metric.                              \n",
       "   MQ0F  1      Float   Fraction of MQ0 reads (smaller is better)              \n",
       "   AC    A      Integer Allele count in genotypes for each ALT allele, in th...\n",
       "   AN    1      Integer Total number of alleles in called genotypes            \n",
       "   DP4   4      Integer Number of high-quality ref-forward , ref-reverse, al...\n",
       "   MQ    1      Integer Average mapping quality                                \n",
       "geno(vcf):\n",
       "  List of length 2: GT, PL\n",
       "geno(header(vcf)):\n",
       "      Number Type    Description                              \n",
       "   GT 1      String  Genotype                                 \n",
       "   PL G      Integer List of Phred-scaled genotype likelihoods"
      ]
     },
     "metadata": {},
     "output_type": "display_data"
    }
   ],
   "source": [
    "# load test sample vcf\n",
    "vcf_to_read <- '~/ERR1831349/06_vcf_snps_only_GIAB_WXS_isec/ERR1831349_markdup_bcftools_P_099_snps_only_GIAB_WXS_isec.vcf'\n",
    "(bcftools_P_0.99_vcf <- readVcf(vcf_to_read))"
   ]
  },
  {
   "cell_type": "code",
   "execution_count": 4,
   "id": "9d50d0d8-f520-49a9-ac21-d9eb8695e76c",
   "metadata": {},
   "outputs": [],
   "source": [
    "# create vectors with SNP 'names'\n",
    "\n",
    "GIAB_snps <- rownames(rowData(GIAB_vcf[isSNV(GIAB_vcf)]))\n",
    "bcftools_P_0.99_snps <- rownames(rowData(bcftools_P_0.99_vcf[isSNV(bcftools_P_0.99_vcf)]))"
   ]
  },
  {
   "cell_type": "code",
   "execution_count": 5,
   "id": "f3645615-5af5-4539-8438-eea53aa530dd",
   "metadata": {},
   "outputs": [
    {
     "name": "stderr",
     "output_type": "stream",
     "text": [
      "Loading required package: grid\n",
      "\n",
      "\n",
      "Attaching package: ‘grid’\n",
      "\n",
      "\n",
      "The following object is masked from ‘package:Biostrings’:\n",
      "\n",
      "    pattern\n",
      "\n",
      "\n",
      "Loading required package: futile.logger\n",
      "\n"
     ]
    }
   ],
   "source": [
    "# Venn Diagrams\n",
    "library(VennDiagram)"
   ]
  },
  {
   "cell_type": "code",
   "execution_count": 6,
   "id": "b56b009d-2b7f-4fd8-9c3f-bfa05e0a3634",
   "metadata": {},
   "outputs": [
    {
     "name": "stdout",
     "output_type": "stream",
     "text": [
      " chr [1:3126] \"chr10:689574_G/A\" \"chr10:1184801_C/G\" \"chr10:1184882_C/T\" ...\n",
      " chr [1:1257] \"chr1:942451_T/C\" \"chr1:2491175_G/A\" \"chr1:2502461_C/T\" ...\n",
      " chr [1:31536] \"chr10:236957_C/T\" \"chr10:249013_A/G\" \"chr10:349326_T/C\" ...\n"
     ]
    }
   ],
   "source": [
    "# stats for Venn Diagram for bcftools_P_0.99 and GIAB\n",
    "\n",
    "bcftools_P_0.99_ONLY <- setdiff(bcftools_P_0.99_snps, GIAB_snps)\n",
    "GIAB_ONLY <- setdiff(GIAB_snps, bcftools_P_0.99_snps)\n",
    "BOTH_bcftools_P_0.99_GIAB <- intersect(bcftools_P_0.99_snps, GIAB_snps)\n",
    "\n",
    "str(bcftools_P_0.99_ONLY)\n",
    "str(GIAB_ONLY)\n",
    "str(BOTH_bcftools_P_0.99_GIAB)"
   ]
  },
  {
   "cell_type": "code",
   "execution_count": 7,
   "id": "89926798-5651-42ae-b1db-d15a1b08b53e",
   "metadata": {},
   "outputs": [],
   "source": [
    "# increase size of plots from default\n",
    "options(repr.plot.width = 14, \n",
    "        repr.plot.height = 14) # from 7, 7"
   ]
  },
  {
   "cell_type": "code",
   "execution_count": 8,
   "id": "273a1def-2c1c-406b-b5a4-9fdd11102e7b",
   "metadata": {},
   "outputs": [
    {
     "data": {
      "image/png": "[encoded data removed]",
      "text/plain": [
       "plot without title"
      ]
     },
     "metadata": {
      "image/png": {
       "height": 840,
       "width": 840
      }
     },
     "output_type": "display_data"
    }
   ],
   "source": [
    "# draw Venn Diagram for bcftools_P_0.99 and GIAB\n",
    "\n",
    "venn.plot <- draw.pairwise.venn(length(bcftools_P_0.99_snps), length(GIAB_snps), length(BOTH_bcftools_P_0.99_GIAB), \n",
    "                                c('bcftools \\n P_0.99', 'GIAB'), fill = c('red', 'blue'), \n",
    "                                ext.percent = rep(0.1, 3), cex = rep(1.5, 3), cat.cex = rep(2, 2))"
   ]
  },
  {
   "cell_type": "code",
   "execution_count": 9,
   "id": "9fde22c9-26dd-4c17-899d-9a03800fa7a3",
   "metadata": {},
   "outputs": [
    {
     "data": {
      "text/html": [
       "<span style=white-space:pre-wrap>'false discovery rate (FP artifacts):  0.09'</span>"
      ],
      "text/latex": [
       "'false discovery rate (FP artifacts):  0.09'"
      ],
      "text/markdown": [
       "<span style=white-space:pre-wrap>'false discovery rate (FP artifacts):  0.09'</span>"
      ],
      "text/plain": [
       "[1] \"false discovery rate (FP artifacts):  0.09\""
      ]
     },
     "metadata": {},
     "output_type": "display_data"
    },
    {
     "data": {
      "text/html": [
       "<span style=white-space:pre-wrap>'precision:  0.91'</span>"
      ],
      "text/latex": [
       "'precision:  0.91'"
      ],
      "text/markdown": [
       "<span style=white-space:pre-wrap>'precision:  0.91'</span>"
      ],
      "text/plain": [
       "[1] \"precision:  0.91\""
      ]
     },
     "metadata": {},
     "output_type": "display_data"
    },
    {
     "data": {
      "text/html": [
       "<span style=white-space:pre-wrap>'sensitivity:  0.962'</span>"
      ],
      "text/latex": [
       "'sensitivity:  0.962'"
      ],
      "text/markdown": [
       "<span style=white-space:pre-wrap>'sensitivity:  0.962'</span>"
      ],
      "text/plain": [
       "[1] \"sensitivity:  0.962\""
      ]
     },
     "metadata": {},
     "output_type": "display_data"
    },
    {
     "data": {
      "text/html": [
       "<span style=white-space:pre-wrap>'false negative rate (FN artifacts):  0.038'</span>"
      ],
      "text/latex": [
       "'false negative rate (FN artifacts):  0.038'"
      ],
      "text/markdown": [
       "<span style=white-space:pre-wrap>'false negative rate (FN artifacts):  0.038'</span>"
      ],
      "text/plain": [
       "[1] \"false negative rate (FN artifacts):  0.038\""
      ]
     },
     "metadata": {},
     "output_type": "display_data"
    },
    {
     "data": {
      "text/html": [
       "<span style=white-space:pre-wrap>'F1 score:  0.935'</span>"
      ],
      "text/latex": [
       "'F1 score:  0.935'"
      ],
      "text/markdown": [
       "<span style=white-space:pre-wrap>'F1 score:  0.935'</span>"
      ],
      "text/plain": [
       "[1] \"F1 score:  0.935\""
      ]
     },
     "metadata": {},
     "output_type": "display_data"
    }
   ],
   "source": [
    "# https://en.wikipedia.org/wiki/Receiver_operating_characteristic\n",
    "\n",
    "# FP/(FP + TP) = 1 - precision\n",
    "paste('false discovery rate (FP artifacts): ', round(length(bcftools_P_0.99_ONLY)/length(bcftools_P_0.99_snps), 3))\n",
    "paste('precision: ', round(1 - length(bcftools_P_0.99_ONLY)/length(bcftools_P_0.99_snps), 3))\n",
    "\n",
    "# sensitivity, recall, hit rate, or true positive rate (TPR) = TP/P = TP/(TP + FN)\n",
    "paste('sensitivity: ', round(length(BOTH_bcftools_P_0.99_GIAB)/length(GIAB_snps), 3))\n",
    "paste('false negative rate (FN artifacts): ', 1 - round(length(BOTH_bcftools_P_0.99_GIAB)/length(GIAB_snps), 3))\n",
    "\n",
    "# F1 score = 2 * (precision * sensitivity)/(precision + sensitivity)\n",
    "precision <- 1 - length(bcftools_P_0.99_ONLY)/length(bcftools_P_0.99_snps)\n",
    "sensitivity <- length(BOTH_bcftools_P_0.99_GIAB)/length(GIAB_snps)\n",
    "paste('F1 score: ', round(2 * (precision * sensitivity)/(precision + sensitivity), 3))"
   ]
  },
  {
   "cell_type": "markdown",
   "id": "47b296a5-4cc6-4ab2-a0fa-1e50f38c6ef8",
   "metadata": {},
   "source": [
    "## Create dataframe for ML model"
   ]
  },
  {
   "cell_type": "code",
   "execution_count": 10,
   "id": "16b4b522-4bd8-4165-bcb4-e84355042497",
   "metadata": {},
   "outputs": [
    {
     "data": {
      "text/plain": [
       "   user  system elapsed \n",
       " 68.063   0.347  68.420 "
      ]
     },
     "metadata": {},
     "output_type": "display_data"
    }
   ],
   "source": [
    "x <- rowRanges(bcftools_P_0.99_vcf)\n",
    "\n",
    "system.time({\n",
    "    x_df <- data.frame(x)\n",
    "})"
   ]
  },
  {
   "cell_type": "code",
   "execution_count": 11,
   "id": "b67955e6-1d2a-4dc4-9a01-2d341010ef7b",
   "metadata": {},
   "outputs": [
    {
     "data": {
      "text/html": [
       "<table class=\"dataframe\">\n",
       "<caption>A data.frame: 6 × 10</caption>\n",
       "<thead>\n",
       "\t<tr><th></th><th scope=col>seqnames</th><th scope=col>start</th><th scope=col>end</th><th scope=col>width</th><th scope=col>strand</th><th scope=col>paramRangeID</th><th scope=col>REF</th><th scope=col>ALT</th><th scope=col>QUAL</th><th scope=col>FILTER</th></tr>\n",
       "\t<tr><th></th><th scope=col>&lt;fct&gt;</th><th scope=col>&lt;int&gt;</th><th scope=col>&lt;int&gt;</th><th scope=col>&lt;int&gt;</th><th scope=col>&lt;fct&gt;</th><th scope=col>&lt;fct&gt;</th><th scope=col>&lt;chr&gt;</th><th scope=col>&lt;list&gt;</th><th scope=col>&lt;dbl&gt;</th><th scope=col>&lt;chr&gt;</th></tr>\n",
       "</thead>\n",
       "<tbody>\n",
       "\t<tr><th scope=row>1</th><td>chr10</td><td>236957</td><td>236957</td><td>1</td><td>*</td><td>NA</td><td>C</td><td>T</td><td>254.960</td><td>PASS</td></tr>\n",
       "\t<tr><th scope=row>2</th><td>chr10</td><td>249013</td><td>249013</td><td>1</td><td>*</td><td>NA</td><td>A</td><td>G</td><td>254.960</td><td>PASS</td></tr>\n",
       "\t<tr><th scope=row>3</th><td>chr10</td><td>349326</td><td>349326</td><td>1</td><td>*</td><td>NA</td><td>T</td><td>C</td><td>254.960</td><td>PASS</td></tr>\n",
       "\t<tr><th scope=row>4</th><td>chr10</td><td>382563</td><td>382563</td><td>1</td><td>*</td><td>NA</td><td>A</td><td>G</td><td>254.960</td><td>PASS</td></tr>\n",
       "\t<tr><th scope=row>5</th><td>chr10</td><td>399121</td><td>399121</td><td>1</td><td>*</td><td>NA</td><td>C</td><td>T</td><td>254.960</td><td>PASS</td></tr>\n",
       "\t<tr><th scope=row>6</th><td>chr10</td><td>414000</td><td>414000</td><td>1</td><td>*</td><td>NA</td><td>G</td><td>A</td><td>251.944</td><td>PASS</td></tr>\n",
       "</tbody>\n",
       "</table>\n"
      ],
      "text/latex": [
       "A data.frame: 6 × 10\n",
       "\\begin{tabular}{r|llllllllll}\n",
       "  & seqnames & start & end & width & strand & paramRangeID & REF & ALT & QUAL & FILTER\\\\\n",
       "  & <fct> & <int> & <int> & <int> & <fct> & <fct> & <chr> & <list> & <dbl> & <chr>\\\\\n",
       "\\hline\n",
       "\t1 & chr10 & 236957 & 236957 & 1 & * & NA & C & T & 254.960 & PASS\\\\\n",
       "\t2 & chr10 & 249013 & 249013 & 1 & * & NA & A & G & 254.960 & PASS\\\\\n",
       "\t3 & chr10 & 349326 & 349326 & 1 & * & NA & T & C & 254.960 & PASS\\\\\n",
       "\t4 & chr10 & 382563 & 382563 & 1 & * & NA & A & G & 254.960 & PASS\\\\\n",
       "\t5 & chr10 & 399121 & 399121 & 1 & * & NA & C & T & 254.960 & PASS\\\\\n",
       "\t6 & chr10 & 414000 & 414000 & 1 & * & NA & G & A & 251.944 & PASS\\\\\n",
       "\\end{tabular}\n"
      ],
      "text/markdown": [
       "\n",
       "A data.frame: 6 × 10\n",
       "\n",
       "| <!--/--> | seqnames &lt;fct&gt; | start &lt;int&gt; | end &lt;int&gt; | width &lt;int&gt; | strand &lt;fct&gt; | paramRangeID &lt;fct&gt; | REF &lt;chr&gt; | ALT &lt;list&gt; | QUAL &lt;dbl&gt; | FILTER &lt;chr&gt; |\n",
       "|---|---|---|---|---|---|---|---|---|---|---|\n",
       "| 1 | chr10 | 236957 | 236957 | 1 | * | NA | C | T | 254.960 | PASS |\n",
       "| 2 | chr10 | 249013 | 249013 | 1 | * | NA | A | G | 254.960 | PASS |\n",
       "| 3 | chr10 | 349326 | 349326 | 1 | * | NA | T | C | 254.960 | PASS |\n",
       "| 4 | chr10 | 382563 | 382563 | 1 | * | NA | A | G | 254.960 | PASS |\n",
       "| 5 | chr10 | 399121 | 399121 | 1 | * | NA | C | T | 254.960 | PASS |\n",
       "| 6 | chr10 | 414000 | 414000 | 1 | * | NA | G | A | 251.944 | PASS |\n",
       "\n"
      ],
      "text/plain": [
       "  seqnames start  end    width strand paramRangeID REF ALT QUAL    FILTER\n",
       "1 chr10    236957 236957 1     *      NA           C   T   254.960 PASS  \n",
       "2 chr10    249013 249013 1     *      NA           A   G   254.960 PASS  \n",
       "3 chr10    349326 349326 1     *      NA           T   C   254.960 PASS  \n",
       "4 chr10    382563 382563 1     *      NA           A   G   254.960 PASS  \n",
       "5 chr10    399121 399121 1     *      NA           C   T   254.960 PASS  \n",
       "6 chr10    414000 414000 1     *      NA           G   A   251.944 PASS  "
      ]
     },
     "metadata": {},
     "output_type": "display_data"
    }
   ],
   "source": [
    "head(x_df)"
   ]
  },
  {
   "cell_type": "code",
   "execution_count": 12,
   "id": "2a63178a-7299-4bb1-9f6f-7f2dde76d445",
   "metadata": {},
   "outputs": [],
   "source": [
    "# select SNVs only\n",
    "my_vcf_snv <- isSNV(bcftools_P_0.99_vcf) # logical T/F\n",
    "GIAB_NA12878_vcf_snv <- isSNV(GIAB_vcf) # logical T/F"
   ]
  },
  {
   "cell_type": "code",
   "execution_count": 13,
   "id": "0aea85ea-de38-4dbd-b06f-b68067889a7d",
   "metadata": {},
   "outputs": [
    {
     "name": "stdout",
     "output_type": "stream",
     "text": [
      " chr [1:34662] \"chr10:236957_C/T\" \"chr10:249013_A/G\" \"chr10:349326_T/C\" ...\n",
      " chr [1:32796] \"chr1:826893_G/A\" \"chr1:941119_A/G\" \"chr1:942335_C/G\" ...\n"
     ]
    }
   ],
   "source": [
    "# create vectors with names of SNVs e.g. \"chr1:826893_G/A\"\n",
    "my_vcf_snvs_only <- rownames(rowData(bcftools_P_0.99_vcf))[my_vcf_snv]\n",
    "GIAB_NA12878_vcf_snvs_only <- rownames(rowData(GIAB_vcf))[GIAB_NA12878_vcf_snv]\n",
    "str(my_vcf_snvs_only)\n",
    "str(GIAB_NA12878_vcf_snvs_only)"
   ]
  },
  {
   "cell_type": "code",
   "execution_count": 14,
   "id": "9f737220-d83a-413d-a29c-8768a9132f38",
   "metadata": {},
   "outputs": [
    {
     "data": {
      "text/plain": [
       "y\n",
       "FALSE  TRUE \n",
       " 3126 31536 "
      ]
     },
     "metadata": {},
     "output_type": "display_data"
    },
    {
     "data": {
      "text/html": [
       "<strong>FALSE:</strong> 0.0901852172407824"
      ],
      "text/latex": [
       "\\textbf{FALSE:} 0.0901852172407824"
      ],
      "text/markdown": [
       "**FALSE:** 0.0901852172407824"
      ],
      "text/plain": [
       "     FALSE \n",
       "0.09018522 "
      ]
     },
     "metadata": {},
     "output_type": "display_data"
    }
   ],
   "source": [
    "# create target vector \"y\" to be used for ML modeling\n",
    "# labels: FALSE is potential artifact\n",
    "y <- my_vcf_snvs_only %in% GIAB_NA12878_vcf_snvs_only\n",
    "table(y)\n",
    "table(y)[1]/sum(table(y))"
   ]
  },
  {
   "cell_type": "markdown",
   "id": "a4347691-ef80-4bae-a19a-1a25b2c78ca9",
   "metadata": {},
   "source": [
    "- about 9% of the calls in the vcf are FALSE POSITIVES\n",
    "- goal of ML modeling: minimize this i.e. filter out as many false positives as possible"
   ]
  },
  {
   "cell_type": "code",
   "execution_count": 15,
   "id": "c3cc8f2f-b467-4728-b1c2-b82fde8fa0a7",
   "metadata": {},
   "outputs": [
    {
     "data": {
      "text/html": [
       "<table class=\"dataframe\">\n",
       "<caption>A data.frame: 6 × 13</caption>\n",
       "<thead>\n",
       "\t<tr><th></th><th scope=col>y</th><th scope=col>REF</th><th scope=col>ALT</th><th scope=col>QUAL</th><th scope=col>DP</th><th scope=col>VDB</th><th scope=col>SGB</th><th scope=col>MQ0F</th><th scope=col>MQ</th><th scope=col>DP4_1</th><th scope=col>DP4_2</th><th scope=col>DP4_3</th><th scope=col>DP4_4</th></tr>\n",
       "\t<tr><th></th><th scope=col>&lt;lgl&gt;</th><th scope=col>&lt;chr&gt;</th><th scope=col>&lt;chr&gt;</th><th scope=col>&lt;dbl&gt;</th><th scope=col>&lt;int&gt;</th><th scope=col>&lt;dbl&gt;</th><th scope=col>&lt;dbl&gt;</th><th scope=col>&lt;dbl&gt;</th><th scope=col>&lt;int&gt;</th><th scope=col>&lt;int&gt;</th><th scope=col>&lt;int&gt;</th><th scope=col>&lt;int&gt;</th><th scope=col>&lt;int&gt;</th></tr>\n",
       "</thead>\n",
       "<tbody>\n",
       "\t<tr><th scope=row>1</th><td>TRUE</td><td>C</td><td>T</td><td>254.960</td><td>61</td><td>0.2154330</td><td>-0.693147</td><td>0</td><td>60</td><td>0</td><td>0</td><td>13</td><td>48</td></tr>\n",
       "\t<tr><th scope=row>2</th><td>TRUE</td><td>A</td><td>G</td><td>254.960</td><td>52</td><td>0.9537080</td><td>-0.693147</td><td>0</td><td>60</td><td>0</td><td>0</td><td>20</td><td>30</td></tr>\n",
       "\t<tr><th scope=row>3</th><td>TRUE</td><td>T</td><td>C</td><td>254.960</td><td>26</td><td>0.4650320</td><td>-0.692976</td><td>0</td><td>60</td><td>0</td><td>0</td><td>24</td><td> 2</td></tr>\n",
       "\t<tr><th scope=row>4</th><td>TRUE</td><td>A</td><td>G</td><td>254.960</td><td>26</td><td>0.2147990</td><td>-0.692914</td><td>0</td><td>60</td><td>0</td><td>0</td><td>21</td><td> 4</td></tr>\n",
       "\t<tr><th scope=row>5</th><td>TRUE</td><td>C</td><td>T</td><td>254.960</td><td>60</td><td>0.0226066</td><td>-0.693147</td><td>0</td><td>60</td><td>0</td><td>0</td><td>39</td><td>20</td></tr>\n",
       "\t<tr><th scope=row>6</th><td>TRUE</td><td>G</td><td>A</td><td>251.944</td><td>38</td><td>0.5248080</td><td>-0.692067</td><td>0</td><td>60</td><td>9</td><td>9</td><td>11</td><td> 9</td></tr>\n",
       "</tbody>\n",
       "</table>\n"
      ],
      "text/latex": [
       "A data.frame: 6 × 13\n",
       "\\begin{tabular}{r|lllllllllllll}\n",
       "  & y & REF & ALT & QUAL & DP & VDB & SGB & MQ0F & MQ & DP4\\_1 & DP4\\_2 & DP4\\_3 & DP4\\_4\\\\\n",
       "  & <lgl> & <chr> & <chr> & <dbl> & <int> & <dbl> & <dbl> & <dbl> & <int> & <int> & <int> & <int> & <int>\\\\\n",
       "\\hline\n",
       "\t1 & TRUE & C & T & 254.960 & 61 & 0.2154330 & -0.693147 & 0 & 60 & 0 & 0 & 13 & 48\\\\\n",
       "\t2 & TRUE & A & G & 254.960 & 52 & 0.9537080 & -0.693147 & 0 & 60 & 0 & 0 & 20 & 30\\\\\n",
       "\t3 & TRUE & T & C & 254.960 & 26 & 0.4650320 & -0.692976 & 0 & 60 & 0 & 0 & 24 &  2\\\\\n",
       "\t4 & TRUE & A & G & 254.960 & 26 & 0.2147990 & -0.692914 & 0 & 60 & 0 & 0 & 21 &  4\\\\\n",
       "\t5 & TRUE & C & T & 254.960 & 60 & 0.0226066 & -0.693147 & 0 & 60 & 0 & 0 & 39 & 20\\\\\n",
       "\t6 & TRUE & G & A & 251.944 & 38 & 0.5248080 & -0.692067 & 0 & 60 & 9 & 9 & 11 &  9\\\\\n",
       "\\end{tabular}\n"
      ],
      "text/markdown": [
       "\n",
       "A data.frame: 6 × 13\n",
       "\n",
       "| <!--/--> | y &lt;lgl&gt; | REF &lt;chr&gt; | ALT &lt;chr&gt; | QUAL &lt;dbl&gt; | DP &lt;int&gt; | VDB &lt;dbl&gt; | SGB &lt;dbl&gt; | MQ0F &lt;dbl&gt; | MQ &lt;int&gt; | DP4_1 &lt;int&gt; | DP4_2 &lt;int&gt; | DP4_3 &lt;int&gt; | DP4_4 &lt;int&gt; |\n",
       "|---|---|---|---|---|---|---|---|---|---|---|---|---|---|\n",
       "| 1 | TRUE | C | T | 254.960 | 61 | 0.2154330 | -0.693147 | 0 | 60 | 0 | 0 | 13 | 48 |\n",
       "| 2 | TRUE | A | G | 254.960 | 52 | 0.9537080 | -0.693147 | 0 | 60 | 0 | 0 | 20 | 30 |\n",
       "| 3 | TRUE | T | C | 254.960 | 26 | 0.4650320 | -0.692976 | 0 | 60 | 0 | 0 | 24 |  2 |\n",
       "| 4 | TRUE | A | G | 254.960 | 26 | 0.2147990 | -0.692914 | 0 | 60 | 0 | 0 | 21 |  4 |\n",
       "| 5 | TRUE | C | T | 254.960 | 60 | 0.0226066 | -0.693147 | 0 | 60 | 0 | 0 | 39 | 20 |\n",
       "| 6 | TRUE | G | A | 251.944 | 38 | 0.5248080 | -0.692067 | 0 | 60 | 9 | 9 | 11 |  9 |\n",
       "\n"
      ],
      "text/plain": [
       "  y    REF ALT QUAL    DP VDB       SGB       MQ0F MQ DP4_1 DP4_2 DP4_3 DP4_4\n",
       "1 TRUE C   T   254.960 61 0.2154330 -0.693147 0    60 0     0     13    48   \n",
       "2 TRUE A   G   254.960 52 0.9537080 -0.693147 0    60 0     0     20    30   \n",
       "3 TRUE T   C   254.960 26 0.4650320 -0.692976 0    60 0     0     24     2   \n",
       "4 TRUE A   G   254.960 26 0.2147990 -0.692914 0    60 0     0     21     4   \n",
       "5 TRUE C   T   254.960 60 0.0226066 -0.693147 0    60 0     0     39    20   \n",
       "6 TRUE G   A   251.944 38 0.5248080 -0.692067 0    60 9     9     11     9   "
      ]
     },
     "metadata": {},
     "output_type": "display_data"
    }
   ],
   "source": [
    "# create dataframe for ML\n",
    "z0 <- x_df[my_vcf_snv, c('REF', 'ALT', 'QUAL')]\n",
    "z0[['ALT']] <- sapply(z0[['ALT']], as.character)\n",
    "# \"Raw read depth\" \"Variant Distance Bias for filtering splice-site artefacts in RNA-seq data (bigger is better)\" \n",
    "# \"Segregation based metric.\" \"Fraction of MQ0 reads (smaller is better)\" \"Average mapping quality\"\n",
    "z1 <- info(bcftools_P_0.99_vcf)[my_vcf_snv, c('DP', \"VDB\", \"SGB\", \"MQ0F\", \"MQ\")]\n",
    "# DP4 - Number of high-quality ref-forward , ref-reverse, alt-forward and alt-reverse bases\n",
    "z2 <- as.matrix(info(bcftools_P_0.99_vcf)[my_vcf_snv, \"DP4\"])\n",
    "colnames(z2) <- c('DP4_1', 'DP4_2', 'DP4_3', 'DP4_4')\n",
    "z <- data.frame(y, z0, z1, z2)\n",
    "z <- droplevels(z)\n",
    "head(z)"
   ]
  },
  {
   "cell_type": "code",
   "execution_count": 16,
   "id": "6bb8083a-07fa-4a03-b013-92d8806266c0",
   "metadata": {},
   "outputs": [
    {
     "data": {
      "text/html": [
       "<table class=\"dataframe\">\n",
       "<caption>A data.frame: 6 × 14</caption>\n",
       "<thead>\n",
       "\t<tr><th></th><th scope=col>y</th><th scope=col>REF</th><th scope=col>ALT</th><th scope=col>QUAL</th><th scope=col>DP</th><th scope=col>VDB</th><th scope=col>SGB</th><th scope=col>MQ0F</th><th scope=col>MQ</th><th scope=col>DP4_1</th><th scope=col>DP4_2</th><th scope=col>DP4_3</th><th scope=col>DP4_4</th><th scope=col>REF_ALT</th></tr>\n",
       "\t<tr><th></th><th scope=col>&lt;lgl&gt;</th><th scope=col>&lt;chr&gt;</th><th scope=col>&lt;chr&gt;</th><th scope=col>&lt;dbl&gt;</th><th scope=col>&lt;int&gt;</th><th scope=col>&lt;dbl&gt;</th><th scope=col>&lt;dbl&gt;</th><th scope=col>&lt;dbl&gt;</th><th scope=col>&lt;int&gt;</th><th scope=col>&lt;int&gt;</th><th scope=col>&lt;int&gt;</th><th scope=col>&lt;int&gt;</th><th scope=col>&lt;int&gt;</th><th scope=col>&lt;chr&gt;</th></tr>\n",
       "</thead>\n",
       "<tbody>\n",
       "\t<tr><th scope=row>1</th><td>TRUE</td><td>C</td><td>T</td><td>254.960</td><td>61</td><td>0.2154330</td><td>-0.693147</td><td>0</td><td>60</td><td>0</td><td>0</td><td>13</td><td>48</td><td>C_T</td></tr>\n",
       "\t<tr><th scope=row>2</th><td>TRUE</td><td>A</td><td>G</td><td>254.960</td><td>52</td><td>0.9537080</td><td>-0.693147</td><td>0</td><td>60</td><td>0</td><td>0</td><td>20</td><td>30</td><td>A_G</td></tr>\n",
       "\t<tr><th scope=row>3</th><td>TRUE</td><td>T</td><td>C</td><td>254.960</td><td>26</td><td>0.4650320</td><td>-0.692976</td><td>0</td><td>60</td><td>0</td><td>0</td><td>24</td><td> 2</td><td>T_C</td></tr>\n",
       "\t<tr><th scope=row>4</th><td>TRUE</td><td>A</td><td>G</td><td>254.960</td><td>26</td><td>0.2147990</td><td>-0.692914</td><td>0</td><td>60</td><td>0</td><td>0</td><td>21</td><td> 4</td><td>A_G</td></tr>\n",
       "\t<tr><th scope=row>5</th><td>TRUE</td><td>C</td><td>T</td><td>254.960</td><td>60</td><td>0.0226066</td><td>-0.693147</td><td>0</td><td>60</td><td>0</td><td>0</td><td>39</td><td>20</td><td>C_T</td></tr>\n",
       "\t<tr><th scope=row>6</th><td>TRUE</td><td>G</td><td>A</td><td>251.944</td><td>38</td><td>0.5248080</td><td>-0.692067</td><td>0</td><td>60</td><td>9</td><td>9</td><td>11</td><td> 9</td><td>G_A</td></tr>\n",
       "</tbody>\n",
       "</table>\n"
      ],
      "text/latex": [
       "A data.frame: 6 × 14\n",
       "\\begin{tabular}{r|llllllllllllll}\n",
       "  & y & REF & ALT & QUAL & DP & VDB & SGB & MQ0F & MQ & DP4\\_1 & DP4\\_2 & DP4\\_3 & DP4\\_4 & REF\\_ALT\\\\\n",
       "  & <lgl> & <chr> & <chr> & <dbl> & <int> & <dbl> & <dbl> & <dbl> & <int> & <int> & <int> & <int> & <int> & <chr>\\\\\n",
       "\\hline\n",
       "\t1 & TRUE & C & T & 254.960 & 61 & 0.2154330 & -0.693147 & 0 & 60 & 0 & 0 & 13 & 48 & C\\_T\\\\\n",
       "\t2 & TRUE & A & G & 254.960 & 52 & 0.9537080 & -0.693147 & 0 & 60 & 0 & 0 & 20 & 30 & A\\_G\\\\\n",
       "\t3 & TRUE & T & C & 254.960 & 26 & 0.4650320 & -0.692976 & 0 & 60 & 0 & 0 & 24 &  2 & T\\_C\\\\\n",
       "\t4 & TRUE & A & G & 254.960 & 26 & 0.2147990 & -0.692914 & 0 & 60 & 0 & 0 & 21 &  4 & A\\_G\\\\\n",
       "\t5 & TRUE & C & T & 254.960 & 60 & 0.0226066 & -0.693147 & 0 & 60 & 0 & 0 & 39 & 20 & C\\_T\\\\\n",
       "\t6 & TRUE & G & A & 251.944 & 38 & 0.5248080 & -0.692067 & 0 & 60 & 9 & 9 & 11 &  9 & G\\_A\\\\\n",
       "\\end{tabular}\n"
      ],
      "text/markdown": [
       "\n",
       "A data.frame: 6 × 14\n",
       "\n",
       "| <!--/--> | y &lt;lgl&gt; | REF &lt;chr&gt; | ALT &lt;chr&gt; | QUAL &lt;dbl&gt; | DP &lt;int&gt; | VDB &lt;dbl&gt; | SGB &lt;dbl&gt; | MQ0F &lt;dbl&gt; | MQ &lt;int&gt; | DP4_1 &lt;int&gt; | DP4_2 &lt;int&gt; | DP4_3 &lt;int&gt; | DP4_4 &lt;int&gt; | REF_ALT &lt;chr&gt; |\n",
       "|---|---|---|---|---|---|---|---|---|---|---|---|---|---|---|\n",
       "| 1 | TRUE | C | T | 254.960 | 61 | 0.2154330 | -0.693147 | 0 | 60 | 0 | 0 | 13 | 48 | C_T |\n",
       "| 2 | TRUE | A | G | 254.960 | 52 | 0.9537080 | -0.693147 | 0 | 60 | 0 | 0 | 20 | 30 | A_G |\n",
       "| 3 | TRUE | T | C | 254.960 | 26 | 0.4650320 | -0.692976 | 0 | 60 | 0 | 0 | 24 |  2 | T_C |\n",
       "| 4 | TRUE | A | G | 254.960 | 26 | 0.2147990 | -0.692914 | 0 | 60 | 0 | 0 | 21 |  4 | A_G |\n",
       "| 5 | TRUE | C | T | 254.960 | 60 | 0.0226066 | -0.693147 | 0 | 60 | 0 | 0 | 39 | 20 | C_T |\n",
       "| 6 | TRUE | G | A | 251.944 | 38 | 0.5248080 | -0.692067 | 0 | 60 | 9 | 9 | 11 |  9 | G_A |\n",
       "\n"
      ],
      "text/plain": [
       "  y    REF ALT QUAL    DP VDB       SGB       MQ0F MQ DP4_1 DP4_2 DP4_3 DP4_4\n",
       "1 TRUE C   T   254.960 61 0.2154330 -0.693147 0    60 0     0     13    48   \n",
       "2 TRUE A   G   254.960 52 0.9537080 -0.693147 0    60 0     0     20    30   \n",
       "3 TRUE T   C   254.960 26 0.4650320 -0.692976 0    60 0     0     24     2   \n",
       "4 TRUE A   G   254.960 26 0.2147990 -0.692914 0    60 0     0     21     4   \n",
       "5 TRUE C   T   254.960 60 0.0226066 -0.693147 0    60 0     0     39    20   \n",
       "6 TRUE G   A   251.944 38 0.5248080 -0.692067 0    60 9     9     11     9   \n",
       "  REF_ALT\n",
       "1 C_T    \n",
       "2 A_G    \n",
       "3 T_C    \n",
       "4 A_G    \n",
       "5 C_T    \n",
       "6 G_A    "
      ]
     },
     "metadata": {},
     "output_type": "display_data"
    }
   ],
   "source": [
    "# add feature that is REF and ALT concatenated\n",
    "z$REF_ALT <- paste(z$REF, z$ALT, sep = \"_\")\n",
    "head(z)"
   ]
  },
  {
   "cell_type": "code",
   "execution_count": 17,
   "id": "d0ebde40-cbd7-4e19-93a0-703d8346433f",
   "metadata": {},
   "outputs": [
    {
     "data": {
      "text/html": [
       "<table class=\"dataframe\">\n",
       "<caption>A data.frame: 6 × 14</caption>\n",
       "<thead>\n",
       "\t<tr><th></th><th scope=col>y</th><th scope=col>REF</th><th scope=col>ALT</th><th scope=col>REF_ALT</th><th scope=col>QUAL</th><th scope=col>DP</th><th scope=col>VDB</th><th scope=col>SGB</th><th scope=col>MQ0F</th><th scope=col>MQ</th><th scope=col>DP4_1</th><th scope=col>DP4_2</th><th scope=col>DP4_3</th><th scope=col>DP4_4</th></tr>\n",
       "\t<tr><th></th><th scope=col>&lt;lgl&gt;</th><th scope=col>&lt;chr&gt;</th><th scope=col>&lt;chr&gt;</th><th scope=col>&lt;chr&gt;</th><th scope=col>&lt;dbl&gt;</th><th scope=col>&lt;int&gt;</th><th scope=col>&lt;dbl&gt;</th><th scope=col>&lt;dbl&gt;</th><th scope=col>&lt;dbl&gt;</th><th scope=col>&lt;int&gt;</th><th scope=col>&lt;int&gt;</th><th scope=col>&lt;int&gt;</th><th scope=col>&lt;int&gt;</th><th scope=col>&lt;int&gt;</th></tr>\n",
       "</thead>\n",
       "<tbody>\n",
       "\t<tr><th scope=row>1</th><td>TRUE</td><td>C</td><td>T</td><td>C_T</td><td>254.960</td><td>61</td><td>0.2154330</td><td>-0.693147</td><td>0</td><td>60</td><td>0</td><td>0</td><td>13</td><td>48</td></tr>\n",
       "\t<tr><th scope=row>2</th><td>TRUE</td><td>A</td><td>G</td><td>A_G</td><td>254.960</td><td>52</td><td>0.9537080</td><td>-0.693147</td><td>0</td><td>60</td><td>0</td><td>0</td><td>20</td><td>30</td></tr>\n",
       "\t<tr><th scope=row>3</th><td>TRUE</td><td>T</td><td>C</td><td>T_C</td><td>254.960</td><td>26</td><td>0.4650320</td><td>-0.692976</td><td>0</td><td>60</td><td>0</td><td>0</td><td>24</td><td> 2</td></tr>\n",
       "\t<tr><th scope=row>4</th><td>TRUE</td><td>A</td><td>G</td><td>A_G</td><td>254.960</td><td>26</td><td>0.2147990</td><td>-0.692914</td><td>0</td><td>60</td><td>0</td><td>0</td><td>21</td><td> 4</td></tr>\n",
       "\t<tr><th scope=row>5</th><td>TRUE</td><td>C</td><td>T</td><td>C_T</td><td>254.960</td><td>60</td><td>0.0226066</td><td>-0.693147</td><td>0</td><td>60</td><td>0</td><td>0</td><td>39</td><td>20</td></tr>\n",
       "\t<tr><th scope=row>6</th><td>TRUE</td><td>G</td><td>A</td><td>G_A</td><td>251.944</td><td>38</td><td>0.5248080</td><td>-0.692067</td><td>0</td><td>60</td><td>9</td><td>9</td><td>11</td><td> 9</td></tr>\n",
       "</tbody>\n",
       "</table>\n"
      ],
      "text/latex": [
       "A data.frame: 6 × 14\n",
       "\\begin{tabular}{r|llllllllllllll}\n",
       "  & y & REF & ALT & REF\\_ALT & QUAL & DP & VDB & SGB & MQ0F & MQ & DP4\\_1 & DP4\\_2 & DP4\\_3 & DP4\\_4\\\\\n",
       "  & <lgl> & <chr> & <chr> & <chr> & <dbl> & <int> & <dbl> & <dbl> & <dbl> & <int> & <int> & <int> & <int> & <int>\\\\\n",
       "\\hline\n",
       "\t1 & TRUE & C & T & C\\_T & 254.960 & 61 & 0.2154330 & -0.693147 & 0 & 60 & 0 & 0 & 13 & 48\\\\\n",
       "\t2 & TRUE & A & G & A\\_G & 254.960 & 52 & 0.9537080 & -0.693147 & 0 & 60 & 0 & 0 & 20 & 30\\\\\n",
       "\t3 & TRUE & T & C & T\\_C & 254.960 & 26 & 0.4650320 & -0.692976 & 0 & 60 & 0 & 0 & 24 &  2\\\\\n",
       "\t4 & TRUE & A & G & A\\_G & 254.960 & 26 & 0.2147990 & -0.692914 & 0 & 60 & 0 & 0 & 21 &  4\\\\\n",
       "\t5 & TRUE & C & T & C\\_T & 254.960 & 60 & 0.0226066 & -0.693147 & 0 & 60 & 0 & 0 & 39 & 20\\\\\n",
       "\t6 & TRUE & G & A & G\\_A & 251.944 & 38 & 0.5248080 & -0.692067 & 0 & 60 & 9 & 9 & 11 &  9\\\\\n",
       "\\end{tabular}\n"
      ],
      "text/markdown": [
       "\n",
       "A data.frame: 6 × 14\n",
       "\n",
       "| <!--/--> | y &lt;lgl&gt; | REF &lt;chr&gt; | ALT &lt;chr&gt; | REF_ALT &lt;chr&gt; | QUAL &lt;dbl&gt; | DP &lt;int&gt; | VDB &lt;dbl&gt; | SGB &lt;dbl&gt; | MQ0F &lt;dbl&gt; | MQ &lt;int&gt; | DP4_1 &lt;int&gt; | DP4_2 &lt;int&gt; | DP4_3 &lt;int&gt; | DP4_4 &lt;int&gt; |\n",
       "|---|---|---|---|---|---|---|---|---|---|---|---|---|---|---|\n",
       "| 1 | TRUE | C | T | C_T | 254.960 | 61 | 0.2154330 | -0.693147 | 0 | 60 | 0 | 0 | 13 | 48 |\n",
       "| 2 | TRUE | A | G | A_G | 254.960 | 52 | 0.9537080 | -0.693147 | 0 | 60 | 0 | 0 | 20 | 30 |\n",
       "| 3 | TRUE | T | C | T_C | 254.960 | 26 | 0.4650320 | -0.692976 | 0 | 60 | 0 | 0 | 24 |  2 |\n",
       "| 4 | TRUE | A | G | A_G | 254.960 | 26 | 0.2147990 | -0.692914 | 0 | 60 | 0 | 0 | 21 |  4 |\n",
       "| 5 | TRUE | C | T | C_T | 254.960 | 60 | 0.0226066 | -0.693147 | 0 | 60 | 0 | 0 | 39 | 20 |\n",
       "| 6 | TRUE | G | A | G_A | 251.944 | 38 | 0.5248080 | -0.692067 | 0 | 60 | 9 | 9 | 11 |  9 |\n",
       "\n"
      ],
      "text/plain": [
       "  y    REF ALT REF_ALT QUAL    DP VDB       SGB       MQ0F MQ DP4_1 DP4_2 DP4_3\n",
       "1 TRUE C   T   C_T     254.960 61 0.2154330 -0.693147 0    60 0     0     13   \n",
       "2 TRUE A   G   A_G     254.960 52 0.9537080 -0.693147 0    60 0     0     20   \n",
       "3 TRUE T   C   T_C     254.960 26 0.4650320 -0.692976 0    60 0     0     24   \n",
       "4 TRUE A   G   A_G     254.960 26 0.2147990 -0.692914 0    60 0     0     21   \n",
       "5 TRUE C   T   C_T     254.960 60 0.0226066 -0.693147 0    60 0     0     39   \n",
       "6 TRUE G   A   G_A     251.944 38 0.5248080 -0.692067 0    60 9     9     11   \n",
       "  DP4_4\n",
       "1 48   \n",
       "2 30   \n",
       "3  2   \n",
       "4  4   \n",
       "5 20   \n",
       "6  9   "
      ]
     },
     "metadata": {},
     "output_type": "display_data"
    }
   ],
   "source": [
    "z <- z[c(1:3, 14, 4:13)]\n",
    "head(z)"
   ]
  },
  {
   "cell_type": "code",
   "execution_count": 18,
   "id": "57356d7a-b770-4262-ae8e-242847c9f390",
   "metadata": {},
   "outputs": [
    {
     "data": {
      "text/html": [
       "<table class=\"dataframe\">\n",
       "<caption>A data.frame: 6 × 14</caption>\n",
       "<thead>\n",
       "\t<tr><th></th><th scope=col>y</th><th scope=col>REF</th><th scope=col>ALT</th><th scope=col>REF_ALT</th><th scope=col>QUAL</th><th scope=col>DP</th><th scope=col>VDB</th><th scope=col>SGB</th><th scope=col>MQ0F</th><th scope=col>MQ</th><th scope=col>DP4_1</th><th scope=col>DP4_2</th><th scope=col>DP4_3</th><th scope=col>DP4_4</th></tr>\n",
       "\t<tr><th></th><th scope=col>&lt;fct&gt;</th><th scope=col>&lt;chr&gt;</th><th scope=col>&lt;chr&gt;</th><th scope=col>&lt;chr&gt;</th><th scope=col>&lt;dbl&gt;</th><th scope=col>&lt;int&gt;</th><th scope=col>&lt;dbl&gt;</th><th scope=col>&lt;dbl&gt;</th><th scope=col>&lt;dbl&gt;</th><th scope=col>&lt;int&gt;</th><th scope=col>&lt;int&gt;</th><th scope=col>&lt;int&gt;</th><th scope=col>&lt;int&gt;</th><th scope=col>&lt;int&gt;</th></tr>\n",
       "</thead>\n",
       "<tbody>\n",
       "\t<tr><th scope=row>1</th><td>TRUE</td><td>C</td><td>T</td><td>C_T</td><td>254.960</td><td>61</td><td>0.2154330</td><td>-0.693147</td><td>0</td><td>60</td><td>0</td><td>0</td><td>13</td><td>48</td></tr>\n",
       "\t<tr><th scope=row>2</th><td>TRUE</td><td>A</td><td>G</td><td>A_G</td><td>254.960</td><td>52</td><td>0.9537080</td><td>-0.693147</td><td>0</td><td>60</td><td>0</td><td>0</td><td>20</td><td>30</td></tr>\n",
       "\t<tr><th scope=row>3</th><td>TRUE</td><td>T</td><td>C</td><td>T_C</td><td>254.960</td><td>26</td><td>0.4650320</td><td>-0.692976</td><td>0</td><td>60</td><td>0</td><td>0</td><td>24</td><td> 2</td></tr>\n",
       "\t<tr><th scope=row>4</th><td>TRUE</td><td>A</td><td>G</td><td>A_G</td><td>254.960</td><td>26</td><td>0.2147990</td><td>-0.692914</td><td>0</td><td>60</td><td>0</td><td>0</td><td>21</td><td> 4</td></tr>\n",
       "\t<tr><th scope=row>5</th><td>TRUE</td><td>C</td><td>T</td><td>C_T</td><td>254.960</td><td>60</td><td>0.0226066</td><td>-0.693147</td><td>0</td><td>60</td><td>0</td><td>0</td><td>39</td><td>20</td></tr>\n",
       "\t<tr><th scope=row>6</th><td>TRUE</td><td>G</td><td>A</td><td>G_A</td><td>251.944</td><td>38</td><td>0.5248080</td><td>-0.692067</td><td>0</td><td>60</td><td>9</td><td>9</td><td>11</td><td> 9</td></tr>\n",
       "</tbody>\n",
       "</table>\n"
      ],
      "text/latex": [
       "A data.frame: 6 × 14\n",
       "\\begin{tabular}{r|llllllllllllll}\n",
       "  & y & REF & ALT & REF\\_ALT & QUAL & DP & VDB & SGB & MQ0F & MQ & DP4\\_1 & DP4\\_2 & DP4\\_3 & DP4\\_4\\\\\n",
       "  & <fct> & <chr> & <chr> & <chr> & <dbl> & <int> & <dbl> & <dbl> & <dbl> & <int> & <int> & <int> & <int> & <int>\\\\\n",
       "\\hline\n",
       "\t1 & TRUE & C & T & C\\_T & 254.960 & 61 & 0.2154330 & -0.693147 & 0 & 60 & 0 & 0 & 13 & 48\\\\\n",
       "\t2 & TRUE & A & G & A\\_G & 254.960 & 52 & 0.9537080 & -0.693147 & 0 & 60 & 0 & 0 & 20 & 30\\\\\n",
       "\t3 & TRUE & T & C & T\\_C & 254.960 & 26 & 0.4650320 & -0.692976 & 0 & 60 & 0 & 0 & 24 &  2\\\\\n",
       "\t4 & TRUE & A & G & A\\_G & 254.960 & 26 & 0.2147990 & -0.692914 & 0 & 60 & 0 & 0 & 21 &  4\\\\\n",
       "\t5 & TRUE & C & T & C\\_T & 254.960 & 60 & 0.0226066 & -0.693147 & 0 & 60 & 0 & 0 & 39 & 20\\\\\n",
       "\t6 & TRUE & G & A & G\\_A & 251.944 & 38 & 0.5248080 & -0.692067 & 0 & 60 & 9 & 9 & 11 &  9\\\\\n",
       "\\end{tabular}\n"
      ],
      "text/markdown": [
       "\n",
       "A data.frame: 6 × 14\n",
       "\n",
       "| <!--/--> | y &lt;fct&gt; | REF &lt;chr&gt; | ALT &lt;chr&gt; | REF_ALT &lt;chr&gt; | QUAL &lt;dbl&gt; | DP &lt;int&gt; | VDB &lt;dbl&gt; | SGB &lt;dbl&gt; | MQ0F &lt;dbl&gt; | MQ &lt;int&gt; | DP4_1 &lt;int&gt; | DP4_2 &lt;int&gt; | DP4_3 &lt;int&gt; | DP4_4 &lt;int&gt; |\n",
       "|---|---|---|---|---|---|---|---|---|---|---|---|---|---|---|\n",
       "| 1 | TRUE | C | T | C_T | 254.960 | 61 | 0.2154330 | -0.693147 | 0 | 60 | 0 | 0 | 13 | 48 |\n",
       "| 2 | TRUE | A | G | A_G | 254.960 | 52 | 0.9537080 | -0.693147 | 0 | 60 | 0 | 0 | 20 | 30 |\n",
       "| 3 | TRUE | T | C | T_C | 254.960 | 26 | 0.4650320 | -0.692976 | 0 | 60 | 0 | 0 | 24 |  2 |\n",
       "| 4 | TRUE | A | G | A_G | 254.960 | 26 | 0.2147990 | -0.692914 | 0 | 60 | 0 | 0 | 21 |  4 |\n",
       "| 5 | TRUE | C | T | C_T | 254.960 | 60 | 0.0226066 | -0.693147 | 0 | 60 | 0 | 0 | 39 | 20 |\n",
       "| 6 | TRUE | G | A | G_A | 251.944 | 38 | 0.5248080 | -0.692067 | 0 | 60 | 9 | 9 | 11 |  9 |\n",
       "\n"
      ],
      "text/plain": [
       "  y    REF ALT REF_ALT QUAL    DP VDB       SGB       MQ0F MQ DP4_1 DP4_2 DP4_3\n",
       "1 TRUE C   T   C_T     254.960 61 0.2154330 -0.693147 0    60 0     0     13   \n",
       "2 TRUE A   G   A_G     254.960 52 0.9537080 -0.693147 0    60 0     0     20   \n",
       "3 TRUE T   C   T_C     254.960 26 0.4650320 -0.692976 0    60 0     0     24   \n",
       "4 TRUE A   G   A_G     254.960 26 0.2147990 -0.692914 0    60 0     0     21   \n",
       "5 TRUE C   T   C_T     254.960 60 0.0226066 -0.693147 0    60 0     0     39   \n",
       "6 TRUE G   A   G_A     251.944 38 0.5248080 -0.692067 0    60 9     9     11   \n",
       "  DP4_4\n",
       "1 48   \n",
       "2 30   \n",
       "3  2   \n",
       "4  4   \n",
       "5 20   \n",
       "6  9   "
      ]
     },
     "metadata": {},
     "output_type": "display_data"
    }
   ],
   "source": [
    "# convert y to factor\n",
    "z$y <- as.factor(z$y)\n",
    "head(z)"
   ]
  },
  {
   "cell_type": "code",
   "execution_count": 19,
   "id": "31035258-da70-464c-b6e3-f3107a9fccc5",
   "metadata": {},
   "outputs": [
    {
     "data": {
      "text/plain": [
       "     y             REF                ALT              REF_ALT         \n",
       " FALSE: 3126   Length:34662       Length:34662       Length:34662      \n",
       " TRUE :31536   Class :character   Class :character   Class :character  \n",
       "               Mode  :character   Mode  :character   Mode  :character  \n",
       "                                                                       \n",
       "                                                                       \n",
       "                                                                       \n",
       "                                                                       \n",
       "      QUAL               DP              VDB              SGB         \n",
       " Min.   :  3.368   Min.   :  1.00   Min.   :0.0000   Min.   :-0.6931  \n",
       " 1st Qu.:199.858   1st Qu.: 25.00   1st Qu.:0.2802   1st Qu.:-0.6931  \n",
       " Median :251.905   Median : 42.00   Median :0.5638   Median :-0.6930  \n",
       " Mean   :210.174   Mean   : 46.74   Mean   :0.5438   Mean   :-0.6601  \n",
       " 3rd Qu.:254.960   3rd Qu.: 64.00   3rd Qu.:0.8203   3rd Qu.:-0.6864  \n",
       " Max.   :263.344   Max.   :223.00   Max.   :1.0000   Max.   :-0.3799  \n",
       "                                    NA's   :2518                      \n",
       "      MQ0F              MQ            DP4_1            DP4_2       \n",
       " Min.   :0.0000   Min.   : 0.00   Min.   : 0.000   Min.   : 0.000  \n",
       " 1st Qu.:0.0000   1st Qu.:60.00   1st Qu.: 0.000   1st Qu.: 0.000  \n",
       " Median :0.0000   Median :60.00   Median : 3.000   Median : 3.000  \n",
       " Mean   :0.0158   Mean   :58.89   Mean   : 7.588   Mean   : 7.496  \n",
       " 3rd Qu.:0.0000   3rd Qu.:60.00   3rd Qu.:13.000   3rd Qu.:12.000  \n",
       " Max.   :1.0000   Max.   :60.00   Max.   :74.000   Max.   :72.000  \n",
       "                                                                   \n",
       "     DP4_3            DP4_4      \n",
       " Min.   :  0.00   Min.   :  0.0  \n",
       " 1st Qu.:  5.00   1st Qu.:  5.0  \n",
       " Median : 12.00   Median : 12.0  \n",
       " Mean   : 15.63   Mean   : 15.5  \n",
       " 3rd Qu.: 22.00   3rd Qu.: 22.0  \n",
       " Max.   :116.00   Max.   :122.0  \n",
       "                                 "
      ]
     },
     "metadata": {},
     "output_type": "display_data"
    }
   ],
   "source": [
    "summary(z)"
   ]
  },
  {
   "cell_type": "code",
   "execution_count": 20,
   "id": "9ef2fea8-473a-4aae-b461-b55bb70693d7",
   "metadata": {},
   "outputs": [
    {
     "data": {
      "text/html": [
       "<table class=\"dataframe\">\n",
       "<caption>A data.frame: 6 × 13</caption>\n",
       "<thead>\n",
       "\t<tr><th></th><th scope=col>y</th><th scope=col>REF</th><th scope=col>ALT</th><th scope=col>REF_ALT</th><th scope=col>QUAL</th><th scope=col>DP</th><th scope=col>SGB</th><th scope=col>MQ0F</th><th scope=col>MQ</th><th scope=col>DP4_1</th><th scope=col>DP4_2</th><th scope=col>DP4_3</th><th scope=col>DP4_4</th></tr>\n",
       "\t<tr><th></th><th scope=col>&lt;fct&gt;</th><th scope=col>&lt;chr&gt;</th><th scope=col>&lt;chr&gt;</th><th scope=col>&lt;chr&gt;</th><th scope=col>&lt;dbl&gt;</th><th scope=col>&lt;int&gt;</th><th scope=col>&lt;dbl&gt;</th><th scope=col>&lt;dbl&gt;</th><th scope=col>&lt;int&gt;</th><th scope=col>&lt;int&gt;</th><th scope=col>&lt;int&gt;</th><th scope=col>&lt;int&gt;</th><th scope=col>&lt;int&gt;</th></tr>\n",
       "</thead>\n",
       "<tbody>\n",
       "\t<tr><th scope=row>1</th><td>TRUE</td><td>C</td><td>T</td><td>C_T</td><td>254.960</td><td>61</td><td>-0.693147</td><td>0</td><td>60</td><td>0</td><td>0</td><td>13</td><td>48</td></tr>\n",
       "\t<tr><th scope=row>2</th><td>TRUE</td><td>A</td><td>G</td><td>A_G</td><td>254.960</td><td>52</td><td>-0.693147</td><td>0</td><td>60</td><td>0</td><td>0</td><td>20</td><td>30</td></tr>\n",
       "\t<tr><th scope=row>3</th><td>TRUE</td><td>T</td><td>C</td><td>T_C</td><td>254.960</td><td>26</td><td>-0.692976</td><td>0</td><td>60</td><td>0</td><td>0</td><td>24</td><td> 2</td></tr>\n",
       "\t<tr><th scope=row>4</th><td>TRUE</td><td>A</td><td>G</td><td>A_G</td><td>254.960</td><td>26</td><td>-0.692914</td><td>0</td><td>60</td><td>0</td><td>0</td><td>21</td><td> 4</td></tr>\n",
       "\t<tr><th scope=row>5</th><td>TRUE</td><td>C</td><td>T</td><td>C_T</td><td>254.960</td><td>60</td><td>-0.693147</td><td>0</td><td>60</td><td>0</td><td>0</td><td>39</td><td>20</td></tr>\n",
       "\t<tr><th scope=row>6</th><td>TRUE</td><td>G</td><td>A</td><td>G_A</td><td>251.944</td><td>38</td><td>-0.692067</td><td>0</td><td>60</td><td>9</td><td>9</td><td>11</td><td> 9</td></tr>\n",
       "</tbody>\n",
       "</table>\n"
      ],
      "text/latex": [
       "A data.frame: 6 × 13\n",
       "\\begin{tabular}{r|lllllllllllll}\n",
       "  & y & REF & ALT & REF\\_ALT & QUAL & DP & SGB & MQ0F & MQ & DP4\\_1 & DP4\\_2 & DP4\\_3 & DP4\\_4\\\\\n",
       "  & <fct> & <chr> & <chr> & <chr> & <dbl> & <int> & <dbl> & <dbl> & <int> & <int> & <int> & <int> & <int>\\\\\n",
       "\\hline\n",
       "\t1 & TRUE & C & T & C\\_T & 254.960 & 61 & -0.693147 & 0 & 60 & 0 & 0 & 13 & 48\\\\\n",
       "\t2 & TRUE & A & G & A\\_G & 254.960 & 52 & -0.693147 & 0 & 60 & 0 & 0 & 20 & 30\\\\\n",
       "\t3 & TRUE & T & C & T\\_C & 254.960 & 26 & -0.692976 & 0 & 60 & 0 & 0 & 24 &  2\\\\\n",
       "\t4 & TRUE & A & G & A\\_G & 254.960 & 26 & -0.692914 & 0 & 60 & 0 & 0 & 21 &  4\\\\\n",
       "\t5 & TRUE & C & T & C\\_T & 254.960 & 60 & -0.693147 & 0 & 60 & 0 & 0 & 39 & 20\\\\\n",
       "\t6 & TRUE & G & A & G\\_A & 251.944 & 38 & -0.692067 & 0 & 60 & 9 & 9 & 11 &  9\\\\\n",
       "\\end{tabular}\n"
      ],
      "text/markdown": [
       "\n",
       "A data.frame: 6 × 13\n",
       "\n",
       "| <!--/--> | y &lt;fct&gt; | REF &lt;chr&gt; | ALT &lt;chr&gt; | REF_ALT &lt;chr&gt; | QUAL &lt;dbl&gt; | DP &lt;int&gt; | SGB &lt;dbl&gt; | MQ0F &lt;dbl&gt; | MQ &lt;int&gt; | DP4_1 &lt;int&gt; | DP4_2 &lt;int&gt; | DP4_3 &lt;int&gt; | DP4_4 &lt;int&gt; |\n",
       "|---|---|---|---|---|---|---|---|---|---|---|---|---|---|\n",
       "| 1 | TRUE | C | T | C_T | 254.960 | 61 | -0.693147 | 0 | 60 | 0 | 0 | 13 | 48 |\n",
       "| 2 | TRUE | A | G | A_G | 254.960 | 52 | -0.693147 | 0 | 60 | 0 | 0 | 20 | 30 |\n",
       "| 3 | TRUE | T | C | T_C | 254.960 | 26 | -0.692976 | 0 | 60 | 0 | 0 | 24 |  2 |\n",
       "| 4 | TRUE | A | G | A_G | 254.960 | 26 | -0.692914 | 0 | 60 | 0 | 0 | 21 |  4 |\n",
       "| 5 | TRUE | C | T | C_T | 254.960 | 60 | -0.693147 | 0 | 60 | 0 | 0 | 39 | 20 |\n",
       "| 6 | TRUE | G | A | G_A | 251.944 | 38 | -0.692067 | 0 | 60 | 9 | 9 | 11 |  9 |\n",
       "\n"
      ],
      "text/plain": [
       "  y    REF ALT REF_ALT QUAL    DP SGB       MQ0F MQ DP4_1 DP4_2 DP4_3 DP4_4\n",
       "1 TRUE C   T   C_T     254.960 61 -0.693147 0    60 0     0     13    48   \n",
       "2 TRUE A   G   A_G     254.960 52 -0.693147 0    60 0     0     20    30   \n",
       "3 TRUE T   C   T_C     254.960 26 -0.692976 0    60 0     0     24     2   \n",
       "4 TRUE A   G   A_G     254.960 26 -0.692914 0    60 0     0     21     4   \n",
       "5 TRUE C   T   C_T     254.960 60 -0.693147 0    60 0     0     39    20   \n",
       "6 TRUE G   A   G_A     251.944 38 -0.692067 0    60 9     9     11     9   "
      ]
     },
     "metadata": {},
     "output_type": "display_data"
    }
   ],
   "source": [
    "# drop feature VDB since has NA's\n",
    "z <- subset(z, select = -c(VDB))\n",
    "head(z)"
   ]
  },
  {
   "cell_type": "code",
   "execution_count": 21,
   "id": "59fe90f9-cb6a-4cf4-85f7-4c9a14567c3c",
   "metadata": {},
   "outputs": [
    {
     "data": {
      "text/html": [
       "<table class=\"dataframe\">\n",
       "<caption>A data.frame: 6 × 11</caption>\n",
       "<thead>\n",
       "\t<tr><th></th><th scope=col>y</th><th scope=col>REF_ALT</th><th scope=col>QUAL</th><th scope=col>DP</th><th scope=col>SGB</th><th scope=col>MQ0F</th><th scope=col>MQ</th><th scope=col>DP4_1</th><th scope=col>DP4_2</th><th scope=col>DP4_3</th><th scope=col>DP4_4</th></tr>\n",
       "\t<tr><th></th><th scope=col>&lt;fct&gt;</th><th scope=col>&lt;chr&gt;</th><th scope=col>&lt;dbl&gt;</th><th scope=col>&lt;int&gt;</th><th scope=col>&lt;dbl&gt;</th><th scope=col>&lt;dbl&gt;</th><th scope=col>&lt;int&gt;</th><th scope=col>&lt;int&gt;</th><th scope=col>&lt;int&gt;</th><th scope=col>&lt;int&gt;</th><th scope=col>&lt;int&gt;</th></tr>\n",
       "</thead>\n",
       "<tbody>\n",
       "\t<tr><th scope=row>1</th><td>TRUE</td><td>C_T</td><td>254.960</td><td>61</td><td>-0.693147</td><td>0</td><td>60</td><td>0</td><td>0</td><td>13</td><td>48</td></tr>\n",
       "\t<tr><th scope=row>2</th><td>TRUE</td><td>A_G</td><td>254.960</td><td>52</td><td>-0.693147</td><td>0</td><td>60</td><td>0</td><td>0</td><td>20</td><td>30</td></tr>\n",
       "\t<tr><th scope=row>3</th><td>TRUE</td><td>T_C</td><td>254.960</td><td>26</td><td>-0.692976</td><td>0</td><td>60</td><td>0</td><td>0</td><td>24</td><td> 2</td></tr>\n",
       "\t<tr><th scope=row>4</th><td>TRUE</td><td>A_G</td><td>254.960</td><td>26</td><td>-0.692914</td><td>0</td><td>60</td><td>0</td><td>0</td><td>21</td><td> 4</td></tr>\n",
       "\t<tr><th scope=row>5</th><td>TRUE</td><td>C_T</td><td>254.960</td><td>60</td><td>-0.693147</td><td>0</td><td>60</td><td>0</td><td>0</td><td>39</td><td>20</td></tr>\n",
       "\t<tr><th scope=row>6</th><td>TRUE</td><td>G_A</td><td>251.944</td><td>38</td><td>-0.692067</td><td>0</td><td>60</td><td>9</td><td>9</td><td>11</td><td> 9</td></tr>\n",
       "</tbody>\n",
       "</table>\n"
      ],
      "text/latex": [
       "A data.frame: 6 × 11\n",
       "\\begin{tabular}{r|lllllllllll}\n",
       "  & y & REF\\_ALT & QUAL & DP & SGB & MQ0F & MQ & DP4\\_1 & DP4\\_2 & DP4\\_3 & DP4\\_4\\\\\n",
       "  & <fct> & <chr> & <dbl> & <int> & <dbl> & <dbl> & <int> & <int> & <int> & <int> & <int>\\\\\n",
       "\\hline\n",
       "\t1 & TRUE & C\\_T & 254.960 & 61 & -0.693147 & 0 & 60 & 0 & 0 & 13 & 48\\\\\n",
       "\t2 & TRUE & A\\_G & 254.960 & 52 & -0.693147 & 0 & 60 & 0 & 0 & 20 & 30\\\\\n",
       "\t3 & TRUE & T\\_C & 254.960 & 26 & -0.692976 & 0 & 60 & 0 & 0 & 24 &  2\\\\\n",
       "\t4 & TRUE & A\\_G & 254.960 & 26 & -0.692914 & 0 & 60 & 0 & 0 & 21 &  4\\\\\n",
       "\t5 & TRUE & C\\_T & 254.960 & 60 & -0.693147 & 0 & 60 & 0 & 0 & 39 & 20\\\\\n",
       "\t6 & TRUE & G\\_A & 251.944 & 38 & -0.692067 & 0 & 60 & 9 & 9 & 11 &  9\\\\\n",
       "\\end{tabular}\n"
      ],
      "text/markdown": [
       "\n",
       "A data.frame: 6 × 11\n",
       "\n",
       "| <!--/--> | y &lt;fct&gt; | REF_ALT &lt;chr&gt; | QUAL &lt;dbl&gt; | DP &lt;int&gt; | SGB &lt;dbl&gt; | MQ0F &lt;dbl&gt; | MQ &lt;int&gt; | DP4_1 &lt;int&gt; | DP4_2 &lt;int&gt; | DP4_3 &lt;int&gt; | DP4_4 &lt;int&gt; |\n",
       "|---|---|---|---|---|---|---|---|---|---|---|---|\n",
       "| 1 | TRUE | C_T | 254.960 | 61 | -0.693147 | 0 | 60 | 0 | 0 | 13 | 48 |\n",
       "| 2 | TRUE | A_G | 254.960 | 52 | -0.693147 | 0 | 60 | 0 | 0 | 20 | 30 |\n",
       "| 3 | TRUE | T_C | 254.960 | 26 | -0.692976 | 0 | 60 | 0 | 0 | 24 |  2 |\n",
       "| 4 | TRUE | A_G | 254.960 | 26 | -0.692914 | 0 | 60 | 0 | 0 | 21 |  4 |\n",
       "| 5 | TRUE | C_T | 254.960 | 60 | -0.693147 | 0 | 60 | 0 | 0 | 39 | 20 |\n",
       "| 6 | TRUE | G_A | 251.944 | 38 | -0.692067 | 0 | 60 | 9 | 9 | 11 |  9 |\n",
       "\n"
      ],
      "text/plain": [
       "  y    REF_ALT QUAL    DP SGB       MQ0F MQ DP4_1 DP4_2 DP4_3 DP4_4\n",
       "1 TRUE C_T     254.960 61 -0.693147 0    60 0     0     13    48   \n",
       "2 TRUE A_G     254.960 52 -0.693147 0    60 0     0     20    30   \n",
       "3 TRUE T_C     254.960 26 -0.692976 0    60 0     0     24     2   \n",
       "4 TRUE A_G     254.960 26 -0.692914 0    60 0     0     21     4   \n",
       "5 TRUE C_T     254.960 60 -0.693147 0    60 0     0     39    20   \n",
       "6 TRUE G_A     251.944 38 -0.692067 0    60 9     9     11     9   "
      ]
     },
     "metadata": {},
     "output_type": "display_data"
    }
   ],
   "source": [
    "# drop REF & ALT and just use REF_ALT\n",
    "z <- subset(z, select = -c(REF, ALT))\n",
    "head(z)"
   ]
  },
  {
   "cell_type": "markdown",
   "id": "72e7b578-7ae3-4298-bdb9-760070994266",
   "metadata": {},
   "source": [
    "## Fit Logistic Regression"
   ]
  },
  {
   "cell_type": "code",
   "execution_count": 22,
   "id": "451cefaa-1a6d-4dc2-b8f1-62b9cd61d30c",
   "metadata": {},
   "outputs": [
    {
     "name": "stderr",
     "output_type": "stream",
     "text": [
      "Warning message:\n",
      "“package ‘caret’ was built under R version 4.2.3”\n",
      "Loading required package: ggplot2\n",
      "\n",
      "Warning message:\n",
      "“package ‘ggplot2’ was built under R version 4.2.3”\n",
      "Loading required package: lattice\n",
      "\n",
      "Warning message:\n",
      "“package ‘lattice’ was built under R version 4.2.3”\n"
     ]
    }
   ],
   "source": [
    "library(caret)"
   ]
  },
  {
   "cell_type": "code",
   "execution_count": 23,
   "id": "39e3cb56-7a6f-4b5f-b04c-ff7f043c49ba",
   "metadata": {},
   "outputs": [
    {
     "data": {
      "text/plain": [
       "[1] ‘6.0.94’"
      ]
     },
     "metadata": {},
     "output_type": "display_data"
    }
   ],
   "source": [
    "packageVersion(\"caret\")"
   ]
  },
  {
   "cell_type": "code",
   "execution_count": 24,
   "id": "6294e733-59a4-4941-842e-f9df2e271a8e",
   "metadata": {},
   "outputs": [
    {
     "name": "stdout",
     "output_type": "stream",
     "text": [
      "[1] \"FALSE\" \"TRUE\" \n"
     ]
    }
   ],
   "source": [
    "print(levels(z$y))"
   ]
  },
  {
   "cell_type": "code",
   "execution_count": 25,
   "id": "b75c8412-021f-48e7-9249-6ff64777ef97",
   "metadata": {},
   "outputs": [
    {
     "name": "stdout",
     "output_type": "stream",
     "text": [
      "[1] \"FALSE\" \"TRUE\" \n",
      "[1] \"artifact\" \"genuine\" \n"
     ]
    }
   ],
   "source": [
    "# rename levels of z to 'artifact' and 'genuine'\n",
    "\n",
    "# View the current levels of the 'y' column\n",
    "print(levels(z$y))\n",
    "\n",
    "# Rename the levels\n",
    "levels(z$y) <- c(\"artifact\", \"genuine\")\n",
    "\n",
    "# View the updated levels of the 'y' column\n",
    "print(levels(z$y))"
   ]
  },
  {
   "cell_type": "code",
   "execution_count": 26,
   "id": "28e72df4-1551-490f-9574-f9b9534f26b7",
   "metadata": {},
   "outputs": [
    {
     "name": "stderr",
     "output_type": "stream",
     "text": [
      "Warning message in train.default(x, y, weights = w, ...):\n",
      "“The metric \"F1\" was not in the result set. ROC will be used instead.”\n"
     ]
    },
    {
     "data": {
      "text/plain": [
       "   user  system elapsed \n",
       "405.485 801.239  71.357 "
      ]
     },
     "metadata": {},
     "output_type": "display_data"
    },
    {
     "data": {
      "text/plain": [
       "\n",
       "Call:\n",
       "NULL\n",
       "\n",
       "Deviance Residuals: \n",
       "    Min       1Q   Median       3Q      Max  \n",
       "-5.3552   0.0003   0.0016   0.0064   3.9196  \n",
       "\n",
       "Coefficients:\n",
       "              Estimate Std. Error z value Pr(>|z|)    \n",
       "(Intercept) -13.567263   1.351016 -10.042  < 2e-16 ***\n",
       "REF_ALTA_G    1.293601   0.323706   3.996 6.44e-05 ***\n",
       "REF_ALTA_T    0.710579   0.540735   1.314   0.1888    \n",
       "REF_ALTC_A    0.743773   0.413185   1.800   0.0718 .  \n",
       "REF_ALTC_G    0.798882   0.383426   2.084   0.0372 *  \n",
       "REF_ALTC_T    1.957768   0.329797   5.936 2.92e-09 ***\n",
       "REF_ALTG_A    1.288546   0.322485   3.996 6.45e-05 ***\n",
       "REF_ALTG_C    0.773810   0.359409   2.153   0.0313 *  \n",
       "REF_ALTG_T    0.918941   0.444633   2.067   0.0388 *  \n",
       "REF_ALTT_A    0.732081   0.529405   1.383   0.1667    \n",
       "REF_ALTT_C    0.761458   0.322232   2.363   0.0181 *  \n",
       "REF_ALTT_G   -0.860725   0.406189  -2.119   0.0341 *  \n",
       "QUAL          0.059025   0.002465  23.950  < 2e-16 ***\n",
       "DP           -0.080911   0.039503  -2.048   0.0405 *  \n",
       "SGB         -16.336412   0.875669 -18.656  < 2e-16 ***\n",
       "MQ0F          5.362115   1.229235   4.362 1.29e-05 ***\n",
       "MQ            0.045195   0.020095   2.249   0.0245 *  \n",
       "DP4_1        -0.067016   0.043527  -1.540   0.1236    \n",
       "DP4_2        -0.057661   0.043683  -1.320   0.1868    \n",
       "DP4_3         0.063975   0.044155   1.449   0.1474    \n",
       "DP4_4         0.110246   0.044944   2.453   0.0142 *  \n",
       "---\n",
       "Signif. codes:  0 ‘***’ 0.001 ‘**’ 0.01 ‘*’ 0.05 ‘.’ 0.1 ‘ ’ 1\n",
       "\n",
       "(Dispersion parameter for binomial family taken to be 1)\n",
       "\n",
       "    Null deviance: 21003  on 34661  degrees of freedom\n",
       "Residual deviance:  1730  on 34641  degrees of freedom\n",
       "AIC: 1772\n",
       "\n",
       "Number of Fisher Scoring iterations: 11\n"
      ]
     },
     "metadata": {},
     "output_type": "display_data"
    }
   ],
   "source": [
    "# logistic regression 10-fold CV 10 times\n",
    "set.seed(23832)\n",
    "\n",
    "# create stratified folds (10-fold CV repeated 10 times)\n",
    "folds <- createMultiFolds(z$y, \n",
    "                          k = 10, \n",
    "                          times = 10)\n",
    "\n",
    "train.control <- trainControl(method = \"repeatedcv\", \n",
    "                              index = folds, \n",
    "                              classProbs = TRUE, \n",
    "                              summaryFunction = twoClassSummary) # 10-fold CV repeated 10 times\n",
    "\n",
    "ptm <- proc.time()\n",
    "model.logreg <- train(y ~ ., data = z,\n",
    "                        trControl = train.control,\n",
    "                        method = 'glm',\n",
    "                        family = 'binomial', \n",
    "                      metric = \"F1\")\n",
    "proc.time() - ptm\n",
    "summary(model.logreg)"
   ]
  },
  {
   "cell_type": "code",
   "execution_count": 27,
   "id": "96941abd-93b4-4a84-9a04-e7a5cd743c70",
   "metadata": {},
   "outputs": [
    {
     "data": {
      "text/html": [
       "<table class=\"dataframe\">\n",
       "<caption>A data.frame: 1 × 7</caption>\n",
       "<thead>\n",
       "\t<tr><th></th><th scope=col>parameter</th><th scope=col>ROC</th><th scope=col>Sens</th><th scope=col>Spec</th><th scope=col>ROCSD</th><th scope=col>SensSD</th><th scope=col>SpecSD</th></tr>\n",
       "\t<tr><th></th><th scope=col>&lt;chr&gt;</th><th scope=col>&lt;dbl&gt;</th><th scope=col>&lt;dbl&gt;</th><th scope=col>&lt;dbl&gt;</th><th scope=col>&lt;dbl&gt;</th><th scope=col>&lt;dbl&gt;</th><th scope=col>&lt;dbl&gt;</th></tr>\n",
       "</thead>\n",
       "<tbody>\n",
       "\t<tr><th scope=row>1</th><td>none</td><td>0.9979986</td><td>0.9720406</td><td>0.994454</td><td>0.0009959812</td><td>0.009325628</td><td>0.001244577</td></tr>\n",
       "</tbody>\n",
       "</table>\n"
      ],
      "text/latex": [
       "A data.frame: 1 × 7\n",
       "\\begin{tabular}{r|lllllll}\n",
       "  & parameter & ROC & Sens & Spec & ROCSD & SensSD & SpecSD\\\\\n",
       "  & <chr> & <dbl> & <dbl> & <dbl> & <dbl> & <dbl> & <dbl>\\\\\n",
       "\\hline\n",
       "\t1 & none & 0.9979986 & 0.9720406 & 0.994454 & 0.0009959812 & 0.009325628 & 0.001244577\\\\\n",
       "\\end{tabular}\n"
      ],
      "text/markdown": [
       "\n",
       "A data.frame: 1 × 7\n",
       "\n",
       "| <!--/--> | parameter &lt;chr&gt; | ROC &lt;dbl&gt; | Sens &lt;dbl&gt; | Spec &lt;dbl&gt; | ROCSD &lt;dbl&gt; | SensSD &lt;dbl&gt; | SpecSD &lt;dbl&gt; |\n",
       "|---|---|---|---|---|---|---|---|\n",
       "| 1 | none | 0.9979986 | 0.9720406 | 0.994454 | 0.0009959812 | 0.009325628 | 0.001244577 |\n",
       "\n"
      ],
      "text/plain": [
       "  parameter ROC       Sens      Spec     ROCSD        SensSD      SpecSD     \n",
       "1 none      0.9979986 0.9720406 0.994454 0.0009959812 0.009325628 0.001244577"
      ]
     },
     "metadata": {},
     "output_type": "display_data"
    }
   ],
   "source": [
    "model.logreg$results"
   ]
  }
 ],
 "metadata": {
  "kernelspec": {
   "display_name": "R",
   "language": "R",
   "name": "ir"
  },
  "language_info": {
   "codemirror_mode": "r",
   "file_extension": ".r",
   "mimetype": "text/x-r-source",
   "name": "R",
   "pygments_lexer": "r",
   "version": "4.2.2"
  }
 },
 "nbformat": 4,
 "nbformat_minor": 5
}
